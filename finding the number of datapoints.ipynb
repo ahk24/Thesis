{
 "cells": [
  {
   "cell_type": "code",
   "execution_count": 7,
   "id": "e26b8d91-8bb1-42fb-9794-e6b32df63d70",
   "metadata": {},
   "outputs": [],
   "source": [
    "import pandas as pd\n",
    "import os\n",
    "import sys\n",
    "# Set options to display everything\n",
    "#pd.set_option('display.max_rows', None)  # Display all rows in a DataFrame/Series\n",
    "#pd.set_option('display.max_columns', None)  # Display all columns in a DataFrame\n",
    "#pd.set_option('display.max_colwidth', None)  # Do not truncate cell contents\n",
    "#pd.set_option('display.expand_frame_repr', False)  # Prevent wrapping to next line\n",
    "#pd.set_option('display.width', 0)  # Adjust to unlimited screen width"
   ]
  },
  {
   "cell_type": "markdown",
   "id": "0c39f038-7d0c-45f8-ae26-94370a390f4e",
   "metadata": {},
   "source": [
    "# Prostate"
   ]
  },
  {
   "cell_type": "code",
   "execution_count": 8,
   "id": "73cb895b-13c2-422e-ab1b-af5e9bc08acb",
   "metadata": {},
   "outputs": [
    {
     "name": "stdout",
     "output_type": "stream",
     "text": [
      "['TCGA-HC-A631-01Z-00-DX1.9771F112-D955-4F5A-819A-3AE84DF712C2', 'TCGA-QU-A6IN-01Z-00-DX1.B6E9CA11-BDB2-4F7F-B900-DFE8A4531138', 'TCGA-J4-A67S-01Z-00-DX1.69EA4B02-5CCA-4387-ABCD-73D5271FF2B8']\n"
     ]
    }
   ],
   "source": [
    "data_mutation_prostate = pd.read_csv(\"/data/temporary/amirhosein/Prostate_Project/data_mutations.txt\", sep='\\t', low_memory=False)\n",
    "# Replace 'path_to_directory' with the actual path to the directory\n",
    "directory_path_prostate = \"/data/temporary/amirhosein/model_script_prostate/pt_files\"\n",
    "\n",
    "# Get a list of all .pt file names in the directory (without extensions and converted to lowercase)\n",
    "file_names_prostate = [os.path.splitext(file)[0] for file in os.listdir(directory_path_prostate) if file.endswith(\".pt\")]\n",
    "print(file_names_prostate[0:3])\n",
    "# Define the list of specific values to filter on in the Hugo_Symbol column\n",
    "specific_values = [\"TP53\"]  # Adjust this list as needed\n",
    "\n",
    "# Filter data_mutation based on conditions\n",
    "df_prostate_tp53 = data_mutation_prostate[\n",
    "data_mutation_prostate[\"SYMBOL\"].str.lower().isin([value.lower() for value in specific_values])\n",
    "]\n",
    "#frame shift\n",
    "df_prostate_tp53_frameshift = df_prostate_tp53[df_prostate_tp53[\"Consequence\"] == \"frameshift_variant\"]\n",
    "\n",
    "# Display the filtered dataframe\n",
    "df_prostate_tp53_frameshift_directory_present = df_prostate_tp53_frameshift[df_prostate_tp53_frameshift['Tumor_Sample_Barcode'].apply(lambda x: any(x in filename for filename in file_names_prostate))]\n",
    "df_prostate_tp53_directory_present = df_prostate_tp53[df_prostate_tp53['Tumor_Sample_Barcode'].apply(lambda x: any(x in filename for filename in file_names_prostate))]"
   ]
  },
  {
   "cell_type": "code",
   "execution_count": 9,
   "id": "ccfb87b8-283e-4c1f-a8be-059811139b7e",
   "metadata": {},
   "outputs": [
    {
     "data": {
      "text/plain": [
       "(927, 114)"
      ]
     },
     "execution_count": 9,
     "metadata": {},
     "output_type": "execute_result"
    }
   ],
   "source": [
    "#examining the frameshifts regardless of mutation \n",
    "df_all_directory_present_prostate = data_mutation_prostate[data_mutation_prostate['Tumor_Sample_Barcode'].apply(lambda x: any(x in filename for filename in file_names_prostate))]\n",
    "df_all_frameshift_directory_present_prostate = df_all_directory_present_prostate[df_all_directory_present_prostate[\"Consequence\"] == \"frameshift_variant\"]\n",
    "df_all_frameshift_directory_present_prostate.shape"
   ]
  },
  {
   "cell_type": "code",
   "execution_count": 10,
   "id": "e036f93c-3754-45f4-8b98-de23d44d6581",
   "metadata": {},
   "outputs": [],
   "source": [
    "#all the ids for which we have slides\n",
    "df_slide_present_ids_prostate = data_mutation_prostate[data_mutation_prostate['Tumor_Sample_Barcode'].apply(lambda x: any(x in filename for filename in file_names_prostate))]"
   ]
  },
  {
   "cell_type": "code",
   "execution_count": 11,
   "id": "186fd2f9-ba8a-416c-b4d2-4d85af4ef78b",
   "metadata": {},
   "outputs": [
    {
     "name": "stdout",
     "output_type": "stream",
     "text": [
      "all the ids:  (34192, 114)\n",
      "unique ids for which we have slides:  (29017, 114)\n",
      "number of mutations that have caused frameshift for which we have a slide : (927, 114)\n",
      "number of TP53 in Prostate: (66, 114)\n",
      "number of 53 in prostate for which we have a slide: (49, 114)\n",
      "number of pt 53 in prostate that has cuased a framshift: (11, 114)\n",
      "number of 53 in prostate for which we have a slide and has caused a frame shift: (7, 114)\n"
     ]
    }
   ],
   "source": [
    "#Prostate\n",
    "print(\"all the ids: \", data_mutation_prostate.shape)\n",
    "print(\"unique ids for which we have slides: \", df_slide_present_ids_prostate.shape)\n",
    "print(\"number of mutations that have caused frameshift for which we have a slide :\", df_all_frameshift_directory_present_prostate.shape)\n",
    "print(\"number of TP53 in Prostate:\", df_prostate_tp53.shape)\n",
    "print(\"number of 53 in prostate for which we have a slide:\",df_prostate_tp53_directory_present.shape)\n",
    "print(\"number of pt 53 in prostate that has cuased a framshift:\",df_prostate_tp53_frameshift.shape)\n",
    "print(\"number of 53 in prostate for which we have a slide and has caused a frame shift:\",df_prostate_tp53_frameshift_directory_present.shape)"
   ]
  },
  {
   "cell_type": "markdown",
   "id": "0f9a6234-29c7-4e4e-9183-263695663dc6",
   "metadata": {
    "tags": []
   },
   "source": [
    "### creating the labels for prostate "
   ]
  },
  {
   "cell_type": "code",
   "execution_count": 12,
   "id": "f6619f08-217a-4c89-95ca-2b897112cb8a",
   "metadata": {},
   "outputs": [],
   "source": [
    "prostate_tp53_labels = pd.DataFrame()\n",
    "prostate_tp53_labels['Tumor_Sample_Barcode'] = df_slide_present_ids_prostate['Tumor_Sample_Barcode']\n",
    "prostate_tp53_labels['TP53'] = (df_slide_present_ids_prostate['SYMBOL'].str.lower() == 'tp53').astype(int)"
   ]
  },
  {
   "cell_type": "code",
   "execution_count": 13,
   "id": "4e7240ef-4b4b-4a6b-9eac-73aaa840f2b9",
   "metadata": {},
   "outputs": [],
   "source": [
    "final_prostate_tp53_labels =prostate_tp53_labels.groupby('Tumor_Sample_Barcode').agg({'TP53': 'max'}).reset_index()"
   ]
  },
  {
   "cell_type": "code",
   "execution_count": 14,
   "id": "ab351726-badc-489b-8160-d3a709e0f82f",
   "metadata": {},
   "outputs": [
    {
     "name": "stdout",
     "output_type": "stream",
     "text": [
      "number of the final labels:  (392, 2)\n",
      "number of positive labels for tp53:  (45, 2)\n"
     ]
    }
   ],
   "source": [
    "print(\"number of the final labels: \", final_prostate_tp53_labels.shape)\n",
    "print(\"number of positive labels for tp53: \", final_prostate_tp53_labels[final_prostate_tp53_labels[\"TP53\"] == 1].shape)"
   ]
  },
  {
   "cell_type": "markdown",
   "id": "e3817775-6ba4-4faa-95d2-1577943d76c9",
   "metadata": {},
   "source": [
    "### saving the labels "
   ]
  },
  {
   "cell_type": "code",
   "execution_count": 15,
   "id": "c8a1567a-eed7-46b7-a630-8027a9554900",
   "metadata": {},
   "outputs": [],
   "source": [
    "final_prostate_tp53_labels.to_csv(\"/data/temporary/amirhosein/Prostate_Project/prostate_tp53_labels.csv\")"
   ]
  },
  {
   "cell_type": "markdown",
   "id": "305d658f-0903-4055-8858-1c1b029ca36f",
   "metadata": {
    "tags": []
   },
   "source": [
    "# BREAST"
   ]
  },
  {
   "cell_type": "code",
   "execution_count": 16,
   "id": "a92e7d0e-c85a-46db-894f-71855270e12f",
   "metadata": {},
   "outputs": [
    {
     "name": "stdout",
     "output_type": "stream",
     "text": [
      "['TCGA-D8-A1JS-01Z-00-DX1.76C592B0-DC6D-401A-9533-C9FE5B6CA08D', 'TCGA-A2-A25B-01Z-00-DX1.58D7BEDE-5558-4A9E-A95E-DDF24C9267EF', 'TCGA-A1-A0SM-01Z-00-DX1.AD503DBD-4D93-4476-B467-F091254FDF78']\n"
     ]
    }
   ],
   "source": [
    "data_mutation_breast = pd.read_csv(\"/data/temporary/amirhosein/breast_Project(subdirectories)/data_mutations.txt\", sep='\\t', low_memory=False)\n",
    "# Replace 'path_to_directory' with the actual path to the directory\n",
    "directory_path_breast = \"/data/temporary/amirhosein/modelscript_breast/pt_files\"\n",
    "\n",
    "# Get a list of all .pt file names in the directory (without extensions and converted to lowercase)\n",
    "file_names_breast = [os.path.splitext(file)[0] for file in os.listdir(directory_path_breast) if file.endswith(\".pt\")]\n",
    "print(file_names_breast[0:3])\n",
    "# Define the list of specific values to filter on in the Hugo_Symbol column\n",
    "specific_values = [\"TP53\"]  # Adjust this list as needed\n",
    "\n",
    "# Filter data_mutation based on conditions\n",
    "df_breast_tp53 = data_mutation_breast[\n",
    "data_mutation_breast[\"SYMBOL\"].str.lower().isin([value.lower() for value in specific_values])\n",
    "]\n",
    "#frame shift\n",
    "df_breast_tp53_frameshift = df_breast_tp53[df_breast_tp53[\"Consequence\"] == \"frameshift_variant\"]\n",
    "\n",
    "# Display the filtered dataframe\n",
    "df_breast_tp53_frameshift_directory_present = df_breast_tp53_frameshift[df_breast_tp53_frameshift['Tumor_Sample_Barcode'].apply(lambda x: any(x in filename for filename in file_names_breast))]\n",
    "df_breast_tp53_directory_present = df_breast_tp53[df_breast_tp53['Tumor_Sample_Barcode'].apply(lambda x: any(x in filename for filename in file_names_breast))]"
   ]
  },
  {
   "cell_type": "code",
   "execution_count": 17,
   "id": "4575ecd5-d1d3-457c-a51c-dcf9df7d8d74",
   "metadata": {},
   "outputs": [
    {
     "data": {
      "text/plain": [
       "(9811, 111)"
      ]
     },
     "execution_count": 17,
     "metadata": {},
     "output_type": "execute_result"
    }
   ],
   "source": [
    "#examining the frameshifts regardless of mutation \n",
    "df_all_directory_present_breast = data_mutation_breast[data_mutation_breast['Tumor_Sample_Barcode'].apply(lambda x: any(x in filename for filename in file_names_breast))]\n",
    "df_all_frameshift_directory_present_breast = df_all_directory_present_breast[df_all_directory_present_breast[\"Consequence\"] == \"frameshift_variant\"]\n",
    "df_all_frameshift_directory_present_breast.shape"
   ]
  },
  {
   "cell_type": "code",
   "execution_count": 18,
   "id": "e42e5cb0-1330-4cda-8dc4-8aaf18846b98",
   "metadata": {},
   "outputs": [],
   "source": [
    "#all the ids for which we have slides\n",
    "df_slide_present_ids_breast = data_mutation_breast[data_mutation_breast['Tumor_Sample_Barcode'].apply(lambda x: any(x in filename for filename in file_names_breast))]"
   ]
  },
  {
   "cell_type": "code",
   "execution_count": 19,
   "id": "5776585e-e16a-4f3a-b298-e54a6c434762",
   "metadata": {},
   "outputs": [
    {
     "name": "stdout",
     "output_type": "stream",
     "text": [
      "all the ids:  (130495, 111)\n",
      "all of the ids for which we have slides:  (127508, 111)\n",
      "number of mutations that have caused frameshift for which we have a slide : (9811, 111)\n",
      "number of TP53 in breast: (372, 111)\n",
      "number of 53 in breast for which we have a slide: (359, 111)\n",
      "number of pt 53 in breast that has cuased a framshift: (62, 111)\n",
      "number of 53 in breast for which we have a slide and has caused a frame shift: (60, 111)\n"
     ]
    }
   ],
   "source": [
    "#Breast\n",
    "print(\"all the ids: \", data_mutation_breast.shape)\n",
    "print(\"all of the ids for which we have slides: \", df_slide_present_ids_breast.shape)\n",
    "print(\"number of mutations that have caused frameshift for which we have a slide :\", df_all_frameshift_directory_present_breast.shape)\n",
    "print(\"number of TP53 in breast:\",df_breast_tp53.shape)\n",
    "print(\"number of 53 in breast for which we have a slide:\",df_breast_tp53_directory_present.shape)\n",
    "print(\"number of pt 53 in breast that has cuased a framshift:\",df_breast_tp53_frameshift.shape)\n",
    "print(\"number of 53 in breast for which we have a slide and has caused a frame shift:\",df_breast_tp53_frameshift_directory_present.shape)"
   ]
  },
  {
   "cell_type": "code",
   "execution_count": 20,
   "id": "ff19aa92-6ed7-43bd-a575-75d0f1e1d71c",
   "metadata": {},
   "outputs": [
    {
     "data": {
      "text/html": [
       "<div>\n",
       "<style scoped>\n",
       "    .dataframe tbody tr th:only-of-type {\n",
       "        vertical-align: middle;\n",
       "    }\n",
       "\n",
       "    .dataframe tbody tr th {\n",
       "        vertical-align: top;\n",
       "    }\n",
       "\n",
       "    .dataframe thead th {\n",
       "        text-align: right;\n",
       "    }\n",
       "</style>\n",
       "<table border=\"1\" class=\"dataframe\">\n",
       "  <thead>\n",
       "    <tr style=\"text-align: right;\">\n",
       "      <th></th>\n",
       "      <th>Tumor_Sample_Barcode</th>\n",
       "      <th>SYMBOL</th>\n",
       "    </tr>\n",
       "  </thead>\n",
       "  <tbody>\n",
       "    <tr>\n",
       "      <th>288</th>\n",
       "      <td>TCGA-3C-AALI-01</td>\n",
       "      <td>TP53</td>\n",
       "    </tr>\n",
       "    <tr>\n",
       "      <th>1600</th>\n",
       "      <td>TCGA-A1-A0SI-01</td>\n",
       "      <td>TP53</td>\n",
       "    </tr>\n",
       "    <tr>\n",
       "      <th>1861</th>\n",
       "      <td>TCGA-A1-A0SK-01</td>\n",
       "      <td>TP53</td>\n",
       "    </tr>\n",
       "    <tr>\n",
       "      <th>2408</th>\n",
       "      <td>TCGA-A1-A0SP-01</td>\n",
       "      <td>TP53</td>\n",
       "    </tr>\n",
       "    <tr>\n",
       "      <th>2602</th>\n",
       "      <td>TCGA-A2-A04P-01</td>\n",
       "      <td>TP53</td>\n",
       "    </tr>\n",
       "    <tr>\n",
       "      <th>...</th>\n",
       "      <td>...</td>\n",
       "      <td>...</td>\n",
       "    </tr>\n",
       "    <tr>\n",
       "      <th>118652</th>\n",
       "      <td>TCGA-S3-AA0Z-01</td>\n",
       "      <td>TP53</td>\n",
       "    </tr>\n",
       "    <tr>\n",
       "      <th>118755</th>\n",
       "      <td>TCGA-S3-AA10-01</td>\n",
       "      <td>TP53</td>\n",
       "    </tr>\n",
       "    <tr>\n",
       "      <th>119408</th>\n",
       "      <td>TCGA-UU-A93S-01</td>\n",
       "      <td>TP53</td>\n",
       "    </tr>\n",
       "    <tr>\n",
       "      <th>120107</th>\n",
       "      <td>TCGA-Z7-A8R6-01</td>\n",
       "      <td>TP53</td>\n",
       "    </tr>\n",
       "    <tr>\n",
       "      <th>127446</th>\n",
       "      <td>TCGA-D8-A1XK-01</td>\n",
       "      <td>TP53</td>\n",
       "    </tr>\n",
       "  </tbody>\n",
       "</table>\n",
       "<p>359 rows × 2 columns</p>\n",
       "</div>"
      ],
      "text/plain": [
       "       Tumor_Sample_Barcode SYMBOL\n",
       "288         TCGA-3C-AALI-01   TP53\n",
       "1600        TCGA-A1-A0SI-01   TP53\n",
       "1861        TCGA-A1-A0SK-01   TP53\n",
       "2408        TCGA-A1-A0SP-01   TP53\n",
       "2602        TCGA-A2-A04P-01   TP53\n",
       "...                     ...    ...\n",
       "118652      TCGA-S3-AA0Z-01   TP53\n",
       "118755      TCGA-S3-AA10-01   TP53\n",
       "119408      TCGA-UU-A93S-01   TP53\n",
       "120107      TCGA-Z7-A8R6-01   TP53\n",
       "127446      TCGA-D8-A1XK-01   TP53\n",
       "\n",
       "[359 rows x 2 columns]"
      ]
     },
     "execution_count": 20,
     "metadata": {},
     "output_type": "execute_result"
    }
   ],
   "source": [
    "df_breast_tp53_directory_present[[\"Tumor_Sample_Barcode\" ,\"SYMBOL\"]]"
   ]
  },
  {
   "cell_type": "code",
   "execution_count": 21,
   "id": "21338cdc-2077-4542-a146-09f21701240c",
   "metadata": {},
   "outputs": [
    {
     "data": {
      "text/plain": [
       "SYMBOL\n",
       "GATA3     90\n",
       "MAP3K1    74\n",
       "CDH1      68\n",
       "TP53      62\n",
       "KMT2C     35\n",
       "RUNX1     24\n",
       "PTEN      23\n",
       "TTN       19\n",
       "TBX3      17\n",
       "MUC16     17\n",
       "Name: count, dtype: int64"
      ]
     },
     "execution_count": 21,
     "metadata": {},
     "output_type": "execute_result"
    }
   ],
   "source": [
    "#all the frameshift mutations Prostate\n",
    "data_mutation_breast[data_mutation_breast[\"Consequence\"] == \"frameshift_variant\"][\"SYMBOL\"].value_counts()[:10]\n",
    "                                                                                                        "
   ]
  },
  {
   "cell_type": "markdown",
   "id": "5513a1ac-509c-4ad2-bb77-b7303e589d5a",
   "metadata": {},
   "source": [
    "### creating labels for breast "
   ]
  },
  {
   "cell_type": "code",
   "execution_count": 22,
   "id": "88222d61-f673-438e-b609-ca8a17bd9fa6",
   "metadata": {},
   "outputs": [],
   "source": [
    "breast_tp53_labels = pd.DataFrame()\n",
    "breast_tp53_labels['Tumor_Sample_Barcode'] = df_slide_present_ids_breast['Tumor_Sample_Barcode']\n",
    "breast_tp53_labels['TP53'] = (df_slide_present_ids_breast['SYMBOL'].str.lower() == 'tp53').astype(int)"
   ]
  },
  {
   "cell_type": "code",
   "execution_count": 23,
   "id": "d3183d8f-c61e-4781-b446-70d1faca3d66",
   "metadata": {},
   "outputs": [],
   "source": [
    "final_breast_tp53_labels = breast_tp53_labels.groupby('Tumor_Sample_Barcode').agg({'TP53': 'max'}).reset_index()"
   ]
  },
  {
   "cell_type": "code",
   "execution_count": 24,
   "id": "d4e64d5e-94e1-486f-8aa7-bc1d1be86324",
   "metadata": {},
   "outputs": [
    {
     "name": "stdout",
     "output_type": "stream",
     "text": [
      "number of the final labels:  (967, 2)\n",
      "number of positive labels for tp53:  (336, 2)\n"
     ]
    }
   ],
   "source": [
    "print(\"number of the final labels: \", final_breast_tp53_labels.shape)\n",
    "print(\"number of positive labels for tp53: \", final_breast_tp53_labels[final_breast_tp53_labels[\"TP53\"] == 1].shape)"
   ]
  },
  {
   "cell_type": "markdown",
   "id": "c64e16ac-fa18-47a5-85a1-3166e97774c5",
   "metadata": {},
   "source": [
    "# Gastrointestinal"
   ]
  },
  {
   "cell_type": "code",
   "execution_count": 25,
   "id": "8bedd413-224f-4142-8908-85ee631c5437",
   "metadata": {},
   "outputs": [
    {
     "name": "stdout",
     "output_type": "stream",
     "text": [
      "['TCGA-A6-A5ZU-01Z-00-DX1.8E7A136C-46C4-4233-A747-EBDC4F3227FB', 'TCGA-AA-3695-01Z-00-DX1.be93a101-7b57-4140-bd82-86c65e65ca27', 'TCGA-A6-A567-01Z-00-DX1.F941874E-9BF7-4E8B-908C-41A638D62275']\n"
     ]
    }
   ],
   "source": [
    "data_mutation_colon = pd.read_csv(\"/data/temporary/amirhosein/gastrointestinal_project(no_subdirectories)/coadread_tcga_pan_can_atlas_2018/data_mutations.txt\",sep=\"\\t\", low_memory=False\n",
    ")\n",
    "# Replace 'path_to_directory' with the actual path to the directory\n",
    "directory_path_colon = \"/data/pa_cpgarchive/archives/gastrointestinal/TCGA_diagnostics/images\"\n",
    "\n",
    "# Get a list of all .pt file names in the directory (without extensions and converted to lowercase)\n",
    "file_names_colon = [os.path.splitext(file)[0] for file in os.listdir(directory_path_colon) if file.endswith(\".svs\")]\n",
    "print(file_names_colon[0:3])\n",
    "# Define the list of specific values to filter on in the Hugo_Symbol column\n",
    "specific_values = [\"TP53\"]  # Adjust this list as needed\n",
    "\n",
    "# Filter data_mutation based on conditions\n",
    "df_colon_tp53 = data_mutation_colon[\n",
    "data_mutation_colon[\"Hugo_Symbol\"].str.lower().isin([value.lower() for value in specific_values])\n",
    "]\n",
    "#frame shift\n",
    "df_colon_tp53_frameshift = df_colon_tp53[df_colon_tp53[\"Consequence\"] == \"frameshift_variant\"]\n",
    "\n",
    "# Display the filtered dataframe\n",
    "df_colon_tp53_frameshift_directory_present = df_colon_tp53_frameshift[df_colon_tp53_frameshift['Tumor_Sample_Barcode'].apply(lambda x: any(x in filename for filename in file_names_colon))]\n",
    "df_colon_tp53_directory_present = df_colon_tp53[df_colon_tp53['Tumor_Sample_Barcode'].apply(lambda x: any(x in filename for filename in file_names_colon))]"
   ]
  },
  {
   "cell_type": "code",
   "execution_count": 26,
   "id": "d9c34476-c0ac-4f64-9730-d888003f634f",
   "metadata": {},
   "outputs": [
    {
     "data": {
      "text/plain": [
       "(16579, 114)"
      ]
     },
     "execution_count": 26,
     "metadata": {},
     "output_type": "execute_result"
    }
   ],
   "source": [
    "#examining the frameshifts regardless of mutation \n",
    "df_all_directory_present_colon = data_mutation_colon[data_mutation_colon['Tumor_Sample_Barcode'].apply(lambda x: any(x in filename for filename in file_names_colon))]\n",
    "df_all_frameshift_directory_present_colon = df_all_directory_present_colon[df_all_directory_present_colon[\"Consequence\"] == \"frameshift_variant\"]\n",
    "df_all_frameshift_directory_present_colon.shape"
   ]
  },
  {
   "cell_type": "code",
   "execution_count": 27,
   "id": "0543d5bf-7356-4462-af05-046a313a452d",
   "metadata": {},
   "outputs": [],
   "source": [
    "#all the ids for which we have slides\n",
    "df_slide_present_ids_colon = data_mutation_colon[data_mutation_colon['Tumor_Sample_Barcode'].apply(lambda x: any(x in filename for filename in file_names_colon))]"
   ]
  },
  {
   "cell_type": "code",
   "execution_count": 28,
   "id": "6771f12c-b509-4815-a9d8-65782cf72d82",
   "metadata": {},
   "outputs": [
    {
     "name": "stdout",
     "output_type": "stream",
     "text": [
      "all the ids:  (332610, 114)\n",
      "unique ids for which we have slides:  (260241, 114)\n",
      "number of mutations that have caused frameshift for which we have a slide : (16579, 114)\n",
      "number of TP53 in colon: (352, 114)\n",
      "number of TP53 in colon for which we have a slide: (243, 114)\n",
      "number of TP53 in colon that has cuased a framshift: (36, 114)\n",
      "number of TP53 in colon for which we have a slide and has caused a frame shift: (25, 114)\n"
     ]
    }
   ],
   "source": [
    "#Prostate\n",
    "print(\"all the ids: \", data_mutation_colon.shape)\n",
    "print(\"unique ids for which we have slides: \", df_slide_present_ids_colon.shape)\n",
    "print(\"number of mutations that have caused frameshift for which we have a slide :\", df_all_frameshift_directory_present_colon.shape)\n",
    "print(\"number of TP53 in colon:\", df_colon_tp53.shape)\n",
    "print(\"number of TP53 in colon for which we have a slide:\",df_colon_tp53_directory_present.shape)\n",
    "print(\"number of TP53 in colon that has cuased a framshift:\",df_colon_tp53_frameshift.shape)\n",
    "print(\"number of TP53 in colon for which we have a slide and has caused a frame shift:\",df_colon_tp53_frameshift_directory_present.shape)"
   ]
  },
  {
   "cell_type": "markdown",
   "id": "8b09ad11-303f-408d-b901-53a8a85f6c7f",
   "metadata": {},
   "source": [
    "# Bladder"
   ]
  },
  {
   "cell_type": "code",
   "execution_count": 29,
   "id": "b05f6501-74eb-43bc-b558-f31f83528860",
   "metadata": {},
   "outputs": [],
   "source": [
    "import pandas as pd \n",
    "import os\n",
    "import sys\n",
    "# Set options to display everything\n",
    "#pd.set_option('display.max_rows', None)  # Display all rows in a DataFrame/Series\n",
    "#pd.set_option('display.max_columns', None)  # Display all columns in a DataFrame\n",
    "#pd.set_option('display.max_colwidth', None)  # Do not truncate cell contents\n",
    "#pd.set_option('display.expand_frame_repr', False)  # Prevent wrapping to next line\n",
    "#pd.set_option('display.width', 0)  # Adjust to unlimited screen width"
   ]
  },
  {
   "cell_type": "code",
   "execution_count": 30,
   "id": "93eb42d6-c11d-499a-a847-835dd48cccad",
   "metadata": {},
   "outputs": [
    {
     "name": "stdout",
     "output_type": "stream",
     "text": [
      "['TCGA-G2-A2EC-01Z-00-DX8.59E69965-ADB5-4E9D-B455-D766A90EB2AD', 'TCGA-DK-A6B6-01Z-00-DX1.CD8B2F09-A5BA-4795-92FD-03A7315C3A2D', 'TCGA-XF-AAN5-01Z-00-DX1.DACB5253-366B-40A2-AD52-376F26C103A6']\n"
     ]
    }
   ],
   "source": [
    "data_mutation_bladder = pd.read_csv(\"/data/temporary/amirhosein/bladder_project/data_mutations.txt\", sep='\\t', low_memory=False)\n",
    "# Replace 'path_to_directory' with the actual path to the directory\n",
    "directory_path_bladder = \"/data/pa_cpgarchive/archives/bladder/TCGA_diagnostics/images\"\n",
    "\n",
    "# Get a list of all .svs file names in the directory (without extensions and converted to lowercase)\n",
    "file_names_bladder = [os.path.splitext(file)[0] for file in os.listdir(directory_path_bladder) if file.endswith(\".svs\")]\n",
    "print(file_names_bladder[0:3])\n",
    "# Define the list of specific values to filter on in the Hugo_Symbol column\n",
    "specific_values = [\"TP53\"]  # Adjust this list as needed\n",
    "\n",
    "# Filter data_mutation based on conditions\n",
    "df_bladder_tp53 = data_mutation_bladder[\n",
    "data_mutation_bladder[\"SYMBOL\"].str.lower().isin([value.lower() for value in specific_values])\n",
    "]\n",
    "#frame shift\n",
    "df_bladder_tp53_frameshift = df_bladder_tp53[df_bladder_tp53[\"Consequence\"] == \"frameshift_variant\"]\n",
    "\n",
    "# Display the filtered dataframe\n",
    "df_bladder_tp53_frameshift_directory_present = df_bladder_tp53_frameshift[df_bladder_tp53_frameshift['Tumor_Sample_Barcode'].apply(lambda x: any(x in filename for filename in file_names_bladder))]\n",
    "df_bladder_tp53_directory_present = df_bladder_tp53[df_bladder_tp53['Tumor_Sample_Barcode'].apply(lambda x: any(x in filename for filename in file_names_bladder))]"
   ]
  },
  {
   "cell_type": "code",
   "execution_count": 31,
   "id": "79f03977-be61-4747-a2f6-2eb2a7812e3d",
   "metadata": {},
   "outputs": [
    {
     "data": {
      "text/plain": [
       "(1339, 112)"
      ]
     },
     "execution_count": 31,
     "metadata": {},
     "output_type": "execute_result"
    }
   ],
   "source": [
    "#examining the frameshifts regardless of mutation \n",
    "df_all_directory_present_bladder = data_mutation_bladder[data_mutation_bladder['Tumor_Sample_Barcode'].apply(lambda x: any(x in filename for filename in file_names_bladder))]\n",
    "df_all_frameshift_directory_present_bladder = df_all_directory_present_bladder[df_all_directory_present_bladder[\"Consequence\"] == \"frameshift_variant\"]\n",
    "df_all_frameshift_directory_present_bladder.shape"
   ]
  },
  {
   "cell_type": "code",
   "execution_count": 32,
   "id": "0d4d3dca-b4bc-461a-aebc-de6ee982f6da",
   "metadata": {},
   "outputs": [],
   "source": [
    "#all the ids for which we have slides\n",
    "df_slide_present_ids_bladder = data_mutation_bladder[data_mutation_bladder['Tumor_Sample_Barcode'].apply(lambda x: any(x in filename for filename in file_names_bladder))]"
   ]
  },
  {
   "cell_type": "code",
   "execution_count": 33,
   "id": "3fc3535b-5054-4102-8d98-26cb3e382fff",
   "metadata": {},
   "outputs": [
    {
     "name": "stdout",
     "output_type": "stream",
     "text": [
      "all the ids:  (154702, 112)\n",
      "unique ids for which we have slides:  (104022, 112)\n",
      "number of mutations that have caused frameshift for which we have a slide : (1339, 112)\n",
      "number of TP53 in bladder: (256, 112)\n",
      "number of TP53 in bladder for which we have a slide: (196, 112)\n",
      "number of TP53 in bladder that has cuased a framshift: (21, 112)\n",
      "number of TP53 in bladder for which we have a slide and has caused a frame shift: (18, 112)\n"
     ]
    }
   ],
   "source": [
    "#Prostate\n",
    "print(\"all the ids: \", data_mutation_bladder.shape)\n",
    "print(\"unique ids for which we have slides: \", df_slide_present_ids_bladder.shape)\n",
    "print(\"number of mutations that have caused frameshift for which we have a slide :\", df_all_frameshift_directory_present_bladder.shape)\n",
    "print(\"number of TP53 in bladder:\", df_bladder_tp53.shape)\n",
    "print(\"number of TP53 in bladder for which we have a slide:\",df_bladder_tp53_directory_present.shape)\n",
    "print(\"number of TP53 in bladder that has cuased a framshift:\",df_bladder_tp53_frameshift.shape)\n",
    "print(\"number of TP53 in bladder for which we have a slide and has caused a frame shift:\",df_bladder_tp53_frameshift_directory_present.shape)"
   ]
  },
  {
   "cell_type": "code",
   "execution_count": 34,
   "id": "4dacd9cc-ebd9-4f85-ba7a-bdb9358124c5",
   "metadata": {},
   "outputs": [
    {
     "data": {
      "text/html": [
       "<div>\n",
       "<style scoped>\n",
       "    .dataframe tbody tr th:only-of-type {\n",
       "        vertical-align: middle;\n",
       "    }\n",
       "\n",
       "    .dataframe tbody tr th {\n",
       "        vertical-align: top;\n",
       "    }\n",
       "\n",
       "    .dataframe thead th {\n",
       "        text-align: right;\n",
       "    }\n",
       "</style>\n",
       "<table border=\"1\" class=\"dataframe\">\n",
       "  <thead>\n",
       "    <tr style=\"text-align: right;\">\n",
       "      <th></th>\n",
       "      <th>Hugo_Symbol</th>\n",
       "      <th>Entrez_Gene_Id</th>\n",
       "      <th>Center</th>\n",
       "      <th>NCBI_Build</th>\n",
       "      <th>Chromosome</th>\n",
       "      <th>Start_Position</th>\n",
       "      <th>End_Position</th>\n",
       "      <th>Strand</th>\n",
       "      <th>Consequence</th>\n",
       "      <th>Variant_Classification</th>\n",
       "      <th>...</th>\n",
       "      <th>SYMBOL_SOURCE</th>\n",
       "      <th>TREMBL</th>\n",
       "      <th>TSL</th>\n",
       "      <th>UNIPARC</th>\n",
       "      <th>VARIANT_CLASS</th>\n",
       "      <th>all_effects</th>\n",
       "      <th>cDNA_position</th>\n",
       "      <th>n_depth</th>\n",
       "      <th>t_depth</th>\n",
       "      <th>Annotation_Status</th>\n",
       "    </tr>\n",
       "  </thead>\n",
       "  <tbody>\n",
       "    <tr>\n",
       "      <th>2075</th>\n",
       "      <td>TP53</td>\n",
       "      <td>7157.0</td>\n",
       "      <td>.</td>\n",
       "      <td>GRCh37</td>\n",
       "      <td>17</td>\n",
       "      <td>7577099</td>\n",
       "      <td>7577099</td>\n",
       "      <td>+</td>\n",
       "      <td>missense_variant</td>\n",
       "      <td>Missense_Mutation</td>\n",
       "      <td>...</td>\n",
       "      <td>HGNC</td>\n",
       "      <td>S5LQU8_HUMAN,Q761V2_HUMAN,Q6IT77_HUMAN,Q1HGV1_...</td>\n",
       "      <td>.</td>\n",
       "      <td>UPI000002ED67</td>\n",
       "      <td>SNV</td>\n",
       "      <td>TP53,missense_variant,p.Arg280Lys,ENST00000420...</td>\n",
       "      <td>1029</td>\n",
       "      <td>35</td>\n",
       "      <td>28</td>\n",
       "      <td>SUCCESS</td>\n",
       "    </tr>\n",
       "    <tr>\n",
       "      <th>2903</th>\n",
       "      <td>TP53</td>\n",
       "      <td>7157.0</td>\n",
       "      <td>.</td>\n",
       "      <td>GRCh37</td>\n",
       "      <td>17</td>\n",
       "      <td>7578534</td>\n",
       "      <td>7578534</td>\n",
       "      <td>+</td>\n",
       "      <td>missense_variant</td>\n",
       "      <td>Missense_Mutation</td>\n",
       "      <td>...</td>\n",
       "      <td>HGNC</td>\n",
       "      <td>S5LQU8_HUMAN,Q761V2_HUMAN,Q6IT77_HUMAN,Q1HGV1_...</td>\n",
       "      <td>.</td>\n",
       "      <td>UPI000002ED67</td>\n",
       "      <td>SNV</td>\n",
       "      <td>TP53,splice_acceptor_variant,,ENST00000604348,...</td>\n",
       "      <td>586</td>\n",
       "      <td>42</td>\n",
       "      <td>33</td>\n",
       "      <td>SUCCESS</td>\n",
       "    </tr>\n",
       "    <tr>\n",
       "      <th>3263</th>\n",
       "      <td>TP53</td>\n",
       "      <td>7157.0</td>\n",
       "      <td>.</td>\n",
       "      <td>GRCh37</td>\n",
       "      <td>17</td>\n",
       "      <td>7574021</td>\n",
       "      <td>7574021</td>\n",
       "      <td>+</td>\n",
       "      <td>stop_gained</td>\n",
       "      <td>Nonsense_Mutation</td>\n",
       "      <td>...</td>\n",
       "      <td>HGNC</td>\n",
       "      <td>S5LQU8_HUMAN,Q761V2_HUMAN,Q6IT77_HUMAN,Q1HGV1_...</td>\n",
       "      <td>.</td>\n",
       "      <td>UPI000002ED67</td>\n",
       "      <td>SNV</td>\n",
       "      <td>TP53,stop_gained,p.Glu336Ter,ENST00000269305,;...</td>\n",
       "      <td>1196</td>\n",
       "      <td>37</td>\n",
       "      <td>29</td>\n",
       "      <td>SUCCESS</td>\n",
       "    </tr>\n",
       "    <tr>\n",
       "      <th>3866</th>\n",
       "      <td>TP53</td>\n",
       "      <td>7157.0</td>\n",
       "      <td>.</td>\n",
       "      <td>GRCh37</td>\n",
       "      <td>17</td>\n",
       "      <td>7577548</td>\n",
       "      <td>7577548</td>\n",
       "      <td>+</td>\n",
       "      <td>missense_variant</td>\n",
       "      <td>Missense_Mutation</td>\n",
       "      <td>...</td>\n",
       "      <td>HGNC</td>\n",
       "      <td>S5LQU8_HUMAN,Q761V2_HUMAN,Q6IT77_HUMAN,Q1HGV1_...</td>\n",
       "      <td>.</td>\n",
       "      <td>UPI000002ED67</td>\n",
       "      <td>SNV</td>\n",
       "      <td>TP53,missense_variant,p.Gly245Ser,ENST00000413...</td>\n",
       "      <td>923</td>\n",
       "      <td>61</td>\n",
       "      <td>57</td>\n",
       "      <td>SUCCESS</td>\n",
       "    </tr>\n",
       "    <tr>\n",
       "      <th>4908</th>\n",
       "      <td>TP53</td>\n",
       "      <td>7157.0</td>\n",
       "      <td>.</td>\n",
       "      <td>GRCh37</td>\n",
       "      <td>17</td>\n",
       "      <td>7579312</td>\n",
       "      <td>7579312</td>\n",
       "      <td>+</td>\n",
       "      <td>splice_region_variant,synonymous_variant</td>\n",
       "      <td>Splice_Region</td>\n",
       "      <td>...</td>\n",
       "      <td>HGNC</td>\n",
       "      <td>S5LQU8_HUMAN,Q761V2_HUMAN,Q6IT77_HUMAN,Q1HGV1_...</td>\n",
       "      <td>.</td>\n",
       "      <td>UPI000002ED67</td>\n",
       "      <td>SNV</td>\n",
       "      <td>TP53,synonymous_variant,p.%3D,ENST00000508793,...</td>\n",
       "      <td>565</td>\n",
       "      <td>66</td>\n",
       "      <td>37</td>\n",
       "      <td>SUCCESS</td>\n",
       "    </tr>\n",
       "    <tr>\n",
       "      <th>...</th>\n",
       "      <td>...</td>\n",
       "      <td>...</td>\n",
       "      <td>...</td>\n",
       "      <td>...</td>\n",
       "      <td>...</td>\n",
       "      <td>...</td>\n",
       "      <td>...</td>\n",
       "      <td>...</td>\n",
       "      <td>...</td>\n",
       "      <td>...</td>\n",
       "      <td>...</td>\n",
       "      <td>...</td>\n",
       "      <td>...</td>\n",
       "      <td>...</td>\n",
       "      <td>...</td>\n",
       "      <td>...</td>\n",
       "      <td>...</td>\n",
       "      <td>...</td>\n",
       "      <td>...</td>\n",
       "      <td>...</td>\n",
       "      <td>...</td>\n",
       "    </tr>\n",
       "    <tr>\n",
       "      <th>145699</th>\n",
       "      <td>TP53</td>\n",
       "      <td>7157.0</td>\n",
       "      <td>.</td>\n",
       "      <td>GRCh37</td>\n",
       "      <td>17</td>\n",
       "      <td>7577058</td>\n",
       "      <td>7577058</td>\n",
       "      <td>+</td>\n",
       "      <td>stop_gained</td>\n",
       "      <td>Nonsense_Mutation</td>\n",
       "      <td>...</td>\n",
       "      <td>HGNC</td>\n",
       "      <td>S5LQU8_HUMAN,Q761V2_HUMAN,Q6IT77_HUMAN,Q1HGV1_...</td>\n",
       "      <td>.</td>\n",
       "      <td>UPI000002ED67</td>\n",
       "      <td>SNV</td>\n",
       "      <td>TP53,stop_gained,p.Glu294Ter,ENST00000420246,;...</td>\n",
       "      <td>1070</td>\n",
       "      <td>55</td>\n",
       "      <td>41</td>\n",
       "      <td>SUCCESS</td>\n",
       "    </tr>\n",
       "    <tr>\n",
       "      <th>146380</th>\n",
       "      <td>TP53</td>\n",
       "      <td>7157.0</td>\n",
       "      <td>.</td>\n",
       "      <td>GRCh37</td>\n",
       "      <td>17</td>\n",
       "      <td>7577121</td>\n",
       "      <td>7577121</td>\n",
       "      <td>+</td>\n",
       "      <td>missense_variant</td>\n",
       "      <td>Missense_Mutation</td>\n",
       "      <td>...</td>\n",
       "      <td>HGNC</td>\n",
       "      <td>S5LQU8_HUMAN,Q761V2_HUMAN,Q6IT77_HUMAN,Q1HGV1_...</td>\n",
       "      <td>.</td>\n",
       "      <td>UPI000002ED67</td>\n",
       "      <td>SNV</td>\n",
       "      <td>TP53,missense_variant,p.Arg273Ser,ENST00000420...</td>\n",
       "      <td>1007</td>\n",
       "      <td>30</td>\n",
       "      <td>26</td>\n",
       "      <td>SUCCESS</td>\n",
       "    </tr>\n",
       "    <tr>\n",
       "      <th>146381</th>\n",
       "      <td>TP53</td>\n",
       "      <td>7157.0</td>\n",
       "      <td>.</td>\n",
       "      <td>GRCh37</td>\n",
       "      <td>17</td>\n",
       "      <td>7578397</td>\n",
       "      <td>7578398</td>\n",
       "      <td>+</td>\n",
       "      <td>frameshift_variant</td>\n",
       "      <td>Frame_Shift_Ins</td>\n",
       "      <td>...</td>\n",
       "      <td>HGNC</td>\n",
       "      <td>S5LQU8_HUMAN,Q761V2_HUMAN,Q6IT77_HUMAN,Q1HGV1_...</td>\n",
       "      <td>.</td>\n",
       "      <td>UPI000002ED67</td>\n",
       "      <td>insertion</td>\n",
       "      <td>TP53,frameshift_variant,p.His178ProfsTer3,ENST...</td>\n",
       "      <td>722-723</td>\n",
       "      <td>68</td>\n",
       "      <td>107</td>\n",
       "      <td>SUCCESS</td>\n",
       "    </tr>\n",
       "    <tr>\n",
       "      <th>146797</th>\n",
       "      <td>TP53</td>\n",
       "      <td>7157.0</td>\n",
       "      <td>.</td>\n",
       "      <td>GRCh37</td>\n",
       "      <td>17</td>\n",
       "      <td>7577079</td>\n",
       "      <td>7577079</td>\n",
       "      <td>+</td>\n",
       "      <td>stop_gained</td>\n",
       "      <td>Nonsense_Mutation</td>\n",
       "      <td>...</td>\n",
       "      <td>HGNC</td>\n",
       "      <td>S5LQU8_HUMAN,Q761V2_HUMAN,Q6IT77_HUMAN,Q1HGV1_...</td>\n",
       "      <td>.</td>\n",
       "      <td>UPI000002ED67</td>\n",
       "      <td>SNV</td>\n",
       "      <td>TP53,stop_gained,p.Glu287Ter,ENST00000420246,;...</td>\n",
       "      <td>1049</td>\n",
       "      <td>44</td>\n",
       "      <td>32</td>\n",
       "      <td>SUCCESS</td>\n",
       "    </tr>\n",
       "    <tr>\n",
       "      <th>147174</th>\n",
       "      <td>TP53</td>\n",
       "      <td>7157.0</td>\n",
       "      <td>.</td>\n",
       "      <td>GRCh37</td>\n",
       "      <td>17</td>\n",
       "      <td>7577099</td>\n",
       "      <td>7577099</td>\n",
       "      <td>+</td>\n",
       "      <td>missense_variant</td>\n",
       "      <td>Missense_Mutation</td>\n",
       "      <td>...</td>\n",
       "      <td>HGNC</td>\n",
       "      <td>S5LQU8_HUMAN,Q761V2_HUMAN,Q6IT77_HUMAN,Q1HGV1_...</td>\n",
       "      <td>.</td>\n",
       "      <td>UPI000002ED67</td>\n",
       "      <td>SNV</td>\n",
       "      <td>TP53,missense_variant,p.Arg280Thr,ENST00000420...</td>\n",
       "      <td>1029</td>\n",
       "      <td>32</td>\n",
       "      <td>28</td>\n",
       "      <td>SUCCESS</td>\n",
       "    </tr>\n",
       "  </tbody>\n",
       "</table>\n",
       "<p>196 rows × 112 columns</p>\n",
       "</div>"
      ],
      "text/plain": [
       "       Hugo_Symbol  Entrez_Gene_Id Center NCBI_Build Chromosome  \\\n",
       "2075          TP53          7157.0      .     GRCh37         17   \n",
       "2903          TP53          7157.0      .     GRCh37         17   \n",
       "3263          TP53          7157.0      .     GRCh37         17   \n",
       "3866          TP53          7157.0      .     GRCh37         17   \n",
       "4908          TP53          7157.0      .     GRCh37         17   \n",
       "...            ...             ...    ...        ...        ...   \n",
       "145699        TP53          7157.0      .     GRCh37         17   \n",
       "146380        TP53          7157.0      .     GRCh37         17   \n",
       "146381        TP53          7157.0      .     GRCh37         17   \n",
       "146797        TP53          7157.0      .     GRCh37         17   \n",
       "147174        TP53          7157.0      .     GRCh37         17   \n",
       "\n",
       "        Start_Position  End_Position Strand  \\\n",
       "2075           7577099       7577099      +   \n",
       "2903           7578534       7578534      +   \n",
       "3263           7574021       7574021      +   \n",
       "3866           7577548       7577548      +   \n",
       "4908           7579312       7579312      +   \n",
       "...                ...           ...    ...   \n",
       "145699         7577058       7577058      +   \n",
       "146380         7577121       7577121      +   \n",
       "146381         7578397       7578398      +   \n",
       "146797         7577079       7577079      +   \n",
       "147174         7577099       7577099      +   \n",
       "\n",
       "                                     Consequence Variant_Classification  ...  \\\n",
       "2075                            missense_variant      Missense_Mutation  ...   \n",
       "2903                            missense_variant      Missense_Mutation  ...   \n",
       "3263                                 stop_gained      Nonsense_Mutation  ...   \n",
       "3866                            missense_variant      Missense_Mutation  ...   \n",
       "4908    splice_region_variant,synonymous_variant          Splice_Region  ...   \n",
       "...                                          ...                    ...  ...   \n",
       "145699                               stop_gained      Nonsense_Mutation  ...   \n",
       "146380                          missense_variant      Missense_Mutation  ...   \n",
       "146381                        frameshift_variant        Frame_Shift_Ins  ...   \n",
       "146797                               stop_gained      Nonsense_Mutation  ...   \n",
       "147174                          missense_variant      Missense_Mutation  ...   \n",
       "\n",
       "       SYMBOL_SOURCE                                             TREMBL TSL  \\\n",
       "2075            HGNC  S5LQU8_HUMAN,Q761V2_HUMAN,Q6IT77_HUMAN,Q1HGV1_...   .   \n",
       "2903            HGNC  S5LQU8_HUMAN,Q761V2_HUMAN,Q6IT77_HUMAN,Q1HGV1_...   .   \n",
       "3263            HGNC  S5LQU8_HUMAN,Q761V2_HUMAN,Q6IT77_HUMAN,Q1HGV1_...   .   \n",
       "3866            HGNC  S5LQU8_HUMAN,Q761V2_HUMAN,Q6IT77_HUMAN,Q1HGV1_...   .   \n",
       "4908            HGNC  S5LQU8_HUMAN,Q761V2_HUMAN,Q6IT77_HUMAN,Q1HGV1_...   .   \n",
       "...              ...                                                ...  ..   \n",
       "145699          HGNC  S5LQU8_HUMAN,Q761V2_HUMAN,Q6IT77_HUMAN,Q1HGV1_...   .   \n",
       "146380          HGNC  S5LQU8_HUMAN,Q761V2_HUMAN,Q6IT77_HUMAN,Q1HGV1_...   .   \n",
       "146381          HGNC  S5LQU8_HUMAN,Q761V2_HUMAN,Q6IT77_HUMAN,Q1HGV1_...   .   \n",
       "146797          HGNC  S5LQU8_HUMAN,Q761V2_HUMAN,Q6IT77_HUMAN,Q1HGV1_...   .   \n",
       "147174          HGNC  S5LQU8_HUMAN,Q761V2_HUMAN,Q6IT77_HUMAN,Q1HGV1_...   .   \n",
       "\n",
       "              UNIPARC VARIANT_CLASS  \\\n",
       "2075    UPI000002ED67           SNV   \n",
       "2903    UPI000002ED67           SNV   \n",
       "3263    UPI000002ED67           SNV   \n",
       "3866    UPI000002ED67           SNV   \n",
       "4908    UPI000002ED67           SNV   \n",
       "...               ...           ...   \n",
       "145699  UPI000002ED67           SNV   \n",
       "146380  UPI000002ED67           SNV   \n",
       "146381  UPI000002ED67     insertion   \n",
       "146797  UPI000002ED67           SNV   \n",
       "147174  UPI000002ED67           SNV   \n",
       "\n",
       "                                              all_effects cDNA_position  \\\n",
       "2075    TP53,missense_variant,p.Arg280Lys,ENST00000420...          1029   \n",
       "2903    TP53,splice_acceptor_variant,,ENST00000604348,...           586   \n",
       "3263    TP53,stop_gained,p.Glu336Ter,ENST00000269305,;...          1196   \n",
       "3866    TP53,missense_variant,p.Gly245Ser,ENST00000413...           923   \n",
       "4908    TP53,synonymous_variant,p.%3D,ENST00000508793,...           565   \n",
       "...                                                   ...           ...   \n",
       "145699  TP53,stop_gained,p.Glu294Ter,ENST00000420246,;...          1070   \n",
       "146380  TP53,missense_variant,p.Arg273Ser,ENST00000420...          1007   \n",
       "146381  TP53,frameshift_variant,p.His178ProfsTer3,ENST...       722-723   \n",
       "146797  TP53,stop_gained,p.Glu287Ter,ENST00000420246,;...          1049   \n",
       "147174  TP53,missense_variant,p.Arg280Thr,ENST00000420...          1029   \n",
       "\n",
       "       n_depth t_depth Annotation_Status  \n",
       "2075        35      28           SUCCESS  \n",
       "2903        42      33           SUCCESS  \n",
       "3263        37      29           SUCCESS  \n",
       "3866        61      57           SUCCESS  \n",
       "4908        66      37           SUCCESS  \n",
       "...        ...     ...               ...  \n",
       "145699      55      41           SUCCESS  \n",
       "146380      30      26           SUCCESS  \n",
       "146381      68     107           SUCCESS  \n",
       "146797      44      32           SUCCESS  \n",
       "147174      32      28           SUCCESS  \n",
       "\n",
       "[196 rows x 112 columns]"
      ]
     },
     "execution_count": 34,
     "metadata": {},
     "output_type": "execute_result"
    }
   ],
   "source": [
    "df_bladder_tp53_directory_present"
   ]
  },
  {
   "cell_type": "markdown",
   "id": "c2a39ae8-0fc3-4ce0-b74b-b4956d4e6b53",
   "metadata": {},
   "source": [
    "# Skin"
   ]
  },
  {
   "cell_type": "code",
   "execution_count": 35,
   "id": "1e95a6a4-22ff-4806-a71e-de104662a37f",
   "metadata": {},
   "outputs": [
    {
     "name": "stdout",
     "output_type": "stream",
     "text": [
      "['TCGA-EE-A3JE-01Z-00-DX1.ABB4DD85-6E75-41F4-9A7E-60CA0E259FC9', 'TCGA-D9-A4Z3-01Z-00-DX1.DD40CC06-5F33-4C8D-BE76-80189D969EBE', 'TCGA-FS-A1ZW-06Z-00-DX6.0865819A-D6FF-4715-9B37-3B2A3462319D']\n"
     ]
    }
   ],
   "source": [
    "data_mutation_skin = pd.read_csv(\"/data/temporary/amirhosein/skin_project/data_mutations.txt\", sep='\\t', low_memory=False)\n",
    "# Replace 'path_to_directory' with the actual path to the directory\n",
    "directory_path_skin = \"/data/pa_cpgarchive/archives/skin/tcga/svs\"\n",
    "\n",
    "# Get a list of all .pt file names in the directory (without extensions and converted to lowercase)\n",
    "file_names_skin = [os.path.splitext(file)[0] for file in os.listdir(directory_path_skin) if file.endswith(\".svs\")]\n",
    "print(file_names_skin[0:3])\n",
    "# Define the list of specific values to filter on in the Hugo_Symbol column\n",
    "specific_values = [\"TP53\"]  # Adjust this list as needed\n",
    "\n",
    "# Filter data_mutation based on conditions\n",
    "df_skin_tp53 = data_mutation_skin[\n",
    "data_mutation_skin[\"SYMBOL\"].str.lower().isin([value.lower() for value in specific_values])\n",
    "]\n",
    "#frame shift\n",
    "df_skin_tp53_frameshift = df_skin_tp53[df_skin_tp53[\"Consequence\"] == \"frameshift_variant\"]\n",
    "\n",
    "# Display the filtered dataframe\n",
    "df_skin_tp53_frameshift_directory_present = df_skin_tp53_frameshift[df_skin_tp53_frameshift['Tumor_Sample_Barcode'].apply(lambda x: any(x in filename for filename in file_names_skin))]\n",
    "df_skin_tp53_directory_present = df_skin_tp53[df_skin_tp53['Tumor_Sample_Barcode'].apply(lambda x: any(x in filename for filename in file_names_skin))]"
   ]
  },
  {
   "cell_type": "code",
   "execution_count": 36,
   "id": "d18db1bc-b099-46e6-bb1e-6eb5b4ffbf8e",
   "metadata": {},
   "outputs": [
    {
     "data": {
      "text/plain": [
       "(698, 114)"
      ]
     },
     "execution_count": 36,
     "metadata": {},
     "output_type": "execute_result"
    }
   ],
   "source": [
    "#examining the frameshifts regardless of mutation \n",
    "df_all_directory_present_skin = data_mutation_skin[data_mutation_skin['Tumor_Sample_Barcode'].apply(lambda x: any(x in filename for filename in file_names_skin))]\n",
    "df_all_frameshift_directory_present_skin = df_all_directory_present_skin[df_all_directory_present_skin[\"Consequence\"] == \"frameshift_variant\"]\n",
    "df_all_frameshift_directory_present_skin.shape"
   ]
  },
  {
   "cell_type": "code",
   "execution_count": 37,
   "id": "17ceee74-386d-492c-92c4-414b5da2d7cb",
   "metadata": {},
   "outputs": [],
   "source": [
    "#all the ids for which we have slides\n",
    "df_slide_present_ids_skin = data_mutation_skin[data_mutation_skin['Tumor_Sample_Barcode'].apply(lambda x: any(x in filename for filename in file_names_skin))]"
   ]
  },
  {
   "cell_type": "code",
   "execution_count": 38,
   "id": "aea0d33e-90d6-489c-8a3c-ff9ab70b796e",
   "metadata": {},
   "outputs": [
    {
     "name": "stdout",
     "output_type": "stream",
     "text": [
      "all the ids:  (556864, 114)\n",
      "unique ids for which we have slides:  (208024, 114)\n",
      "number of mutations that have caused frameshift for which we have a slide : (698, 114)\n",
      "number of TP53 in skin: (95, 114)\n",
      "number of TP53 in skin for which we have a slide: (35, 114)\n",
      "number of TP53 in skin that has cuased a framshift: (3, 114)\n",
      "number of TP53 in skin for which we have a slide and has caused a frame shift: (0, 114)\n"
     ]
    }
   ],
   "source": [
    "#Prostate\n",
    "print(\"all the ids: \", data_mutation_skin.shape)\n",
    "print(\"unique ids for which we have slides: \", df_slide_present_ids_skin.shape)\n",
    "print(\"number of mutations that have caused frameshift for which we have a slide :\", df_all_frameshift_directory_present_skin.shape)\n",
    "print(\"number of TP53 in skin:\", df_skin_tp53.shape)\n",
    "print(\"number of TP53 in skin for which we have a slide:\",df_skin_tp53_directory_present.shape)\n",
    "print(\"number of TP53 in skin that has cuased a framshift:\",df_skin_tp53_frameshift.shape)\n",
    "print(\"number of TP53 in skin for which we have a slide and has caused a frame shift:\",df_skin_tp53_frameshift_directory_present.shape)"
   ]
  },
  {
   "cell_type": "markdown",
   "id": "d75c5eb2-f673-475c-a70b-9c5a4ae0a4de",
   "metadata": {},
   "source": [
    "# Lung LAUD"
   ]
  },
  {
   "cell_type": "code",
   "execution_count": 39,
   "id": "6a2a0dc6-62c6-46db-86b2-4008eb95a048",
   "metadata": {},
   "outputs": [
    {
     "name": "stdout",
     "output_type": "stream",
     "text": [
      "0    TCGA-44-6777-11A-01\n",
      "1    TCGA-49-4507-01A-01\n",
      "2    TCGA-05-4397-01A-01\n",
      "Name: filename, dtype: object\n"
     ]
    }
   ],
   "source": [
    "data_mutation_lungld = pd.read_csv(\"/data/temporary/amirhosein/lung_project_diagnostics/luad_tcga_pan_can_atlas_2018/data_mutations.txt\", sep='\\t', low_memory=False)\n",
    "# Replace 'path_to_directory' with the actual path to the directory\n",
    "directory_path_lungld = pd.read_csv(\"/data/pa_cpgarchive/archives/lung/TCGA_LUAD/documents/TCGA_LUAD_gdc_manifest_tissue_slides.2019-08-09.txt\", sep=\"\\t\")\n",
    "\n",
    "# Get a list of all .pt file names in the directory (without extensions and converted to lowercase)\n",
    "file_names_lungld = directory_path_lungld[\"filename\"].str.slice(0, 19)\n",
    "print(file_names_lungld[0:3])\n",
    "# Define the list of specific values to filter on in the Hugo_Symbol column\n",
    "specific_values = [\"TP53\"]  # Adjust this list as needed\n",
    "\n",
    "# Filter data_mutation based on conditions\n",
    "df_lungld_tp53 = data_mutation_lungld[\n",
    "data_mutation_lungld[\"Hugo_Symbol\"].str.lower().isin([value.lower() for value in specific_values])\n",
    "]\n",
    "#frame shift\n",
    "df_lungld_tp53_frameshift = df_lungld_tp53[df_lungld_tp53[\"Consequence\"] == \"frameshift_variant\"]\n",
    "\n",
    "# Display the filtered dataframe\n",
    "df_lungld_tp53_frameshift_directory_present = df_lungld_tp53_frameshift[df_lungld_tp53_frameshift['Tumor_Sample_Barcode'].apply(lambda x: any(x in filename for filename in file_names_lungld))]\n",
    "df_lungld_tp53_directory_present = df_lungld_tp53[df_lungld_tp53['Tumor_Sample_Barcode'].apply(lambda x: any(x in filename for filename in file_names_lungld))]"
   ]
  },
  {
   "cell_type": "code",
   "execution_count": 40,
   "id": "194c11ef-5781-483e-bbe7-aa04f67de2fb",
   "metadata": {},
   "outputs": [
    {
     "data": {
      "text/plain": [
       "(4827, 114)"
      ]
     },
     "execution_count": 40,
     "metadata": {},
     "output_type": "execute_result"
    }
   ],
   "source": [
    "#examining the frameshifts regardless of mutation \n",
    "df_all_directory_present_lungld = data_mutation_lungld[data_mutation_lungld['Tumor_Sample_Barcode'].apply(lambda x: any(x in filename for filename in file_names_lungld))]\n",
    "df_all_frameshift_directory_present_lungld = df_all_directory_present_lungld[df_all_directory_present_lungld[\"Consequence\"] == \"frameshift_variant\"]\n",
    "df_all_frameshift_directory_present_lungld.shape"
   ]
  },
  {
   "cell_type": "code",
   "execution_count": 41,
   "id": "7bfe1b68-433c-4413-98ba-0cfdd74cbf24",
   "metadata": {},
   "outputs": [],
   "source": [
    "#all the ids for which we have slides\n",
    "df_slide_present_ids_lungld = data_mutation_lungld[data_mutation_lungld['Tumor_Sample_Barcode'].apply(lambda x: any(x in filename for filename in file_names_lungld))]"
   ]
  },
  {
   "cell_type": "code",
   "execution_count": 42,
   "id": "5777f43f-32b0-4942-9128-32613a15329b",
   "metadata": {},
   "outputs": [
    {
     "name": "stdout",
     "output_type": "stream",
     "text": [
      "all the ids:  (243229, 114)\n",
      "unique ids for which we have slides:  (216596, 114)\n",
      "number of mutations that have caused frameshift for which we have a slide : (4827, 114)\n",
      "number of TP53 in lung luad: (343, 114)\n",
      "number of TP53 in lung luad for which we have a slide: (300, 114)\n",
      "number of TP53 in lung luad that has cuased a framshift: (28, 114)\n",
      "number of TP53 in lunglaud for which we have a slide and has caused a frame shift: (26, 114)\n"
     ]
    }
   ],
   "source": [
    "#lungld\n",
    "print(\"all the ids: \", data_mutation_lungld.shape)\n",
    "print(\"unique ids for which we have slides: \", df_slide_present_ids_lungld.shape)\n",
    "print(\"number of mutations that have caused frameshift for which we have a slide :\", df_all_frameshift_directory_present_lungld.shape)\n",
    "print(\"number of TP53 in lung luad:\", df_lungld_tp53.shape)\n",
    "print(\"number of TP53 in lung luad for which we have a slide:\",df_lungld_tp53_directory_present.shape)\n",
    "print(\"number of TP53 in lung luad that has cuased a framshift:\",df_lungld_tp53_frameshift.shape)\n",
    "print(\"number of TP53 in lunglaud for which we have a slide and has caused a frame shift:\",df_lungld_tp53_frameshift_directory_present.shape)"
   ]
  },
  {
   "cell_type": "markdown",
   "id": "9ef89157-075b-4df6-b028-fd7a8e5a38a5",
   "metadata": {},
   "source": [
    "# Lung LUSC"
   ]
  },
  {
   "cell_type": "code",
   "execution_count": 43,
   "id": "555f2e9d-c2e1-40b4-becf-c1dd6f6218e5",
   "metadata": {},
   "outputs": [
    {
     "name": "stdout",
     "output_type": "stream",
     "text": [
      "0    TCGA-18-3406-01Z-00\n",
      "1    TCGA-18-3407-01Z-00\n",
      "2    TCGA-18-3408-01Z-00\n",
      "Name: filename, dtype: object\n"
     ]
    }
   ],
   "source": [
    "data_mutation_lunglc = pd.read_csv(\"/data/temporary/amirhosein/lung_project_diagnostics/luad_tcga_pan_can_atlas_2018/data_mutations.txt\", sep='\\t', low_memory=False)\n",
    "# Replace 'path_to_directory' with the actual path to the directory\n",
    "directory_path_lunglc = pd.read_csv(\"/data/pa_cpgarchive/archives/lung/TCGA_LUSC/images/images_diagnostic/00 TCGA-LUSC_images_manifest.txt\", sep=\"\\t\")\n",
    "\n",
    "# Get a list of all .pt file names in the directory (without extensions and converted to lowercase)\n",
    "file_names_lunglc = directory_path_lunglc[\"filename\"].str.slice(0, 19)\n",
    "print(file_names_lunglc[0:3])\n",
    "# Define the list of specific values to filter on in the Hugo_Symbol column\n",
    "specific_values = [\"TP53\"]  # Adjust this list as needed\n",
    "\n",
    "# Filter data_mutation based on conditions\n",
    "df_lunglc_tp53 = data_mutation_lunglc[\n",
    "data_mutation_lunglc[\"Hugo_Symbol\"].str.lower().isin([value.lower() for value in specific_values])\n",
    "]\n",
    "#frame shift\n",
    "df_lunglc_tp53_frameshift = df_lunglc_tp53[df_lunglc_tp53[\"Consequence\"] == \"frameshift_variant\"]\n",
    "\n",
    "# Display the filtered dataframe\n",
    "df_lunglc_tp53_frameshift_directory_present = df_lunglc_tp53_frameshift[df_lunglc_tp53_frameshift['Tumor_Sample_Barcode'].apply(lambda x: any(x in filename for filename in file_names_lunglc))]\n",
    "df_lunglc_tp53_directory_present = df_lunglc_tp53[df_lunglc_tp53['Tumor_Sample_Barcode'].apply(lambda x: any(x in filename for filename in file_names_lunglc))]"
   ]
  },
  {
   "cell_type": "code",
   "execution_count": 44,
   "id": "515f8c9a-b77d-41c9-b5df-d224d4f39182",
   "metadata": {},
   "outputs": [
    {
     "data": {
      "text/plain": [
       "(0, 114)"
      ]
     },
     "execution_count": 44,
     "metadata": {},
     "output_type": "execute_result"
    }
   ],
   "source": [
    "#examining the frameshifts regardless of mutation \n",
    "df_all_directory_present_lunglc = data_mutation_lunglc[data_mutation_lunglc['Tumor_Sample_Barcode'].apply(lambda x: any(x in filename for filename in file_names_lunglc))]\n",
    "df_all_frameshift_directory_present_lunglc = df_all_directory_present_lunglc[df_all_directory_present_lunglc[\"Consequence\"] == \"frameshift_variant\"]\n",
    "df_all_frameshift_directory_present_lunglc.shape"
   ]
  },
  {
   "cell_type": "code",
   "execution_count": 45,
   "id": "29a5d2e1-c91b-4544-9616-44f146a7df32",
   "metadata": {},
   "outputs": [],
   "source": [
    "#all the ids for which we have slides\n",
    "df_slide_present_ids_lunglc = data_mutation_lunglc[data_mutation_lunglc['Tumor_Sample_Barcode'].apply(lambda x: any(x in filename for filename in file_names_lunglc))]"
   ]
  },
  {
   "cell_type": "code",
   "execution_count": 46,
   "id": "1dbe5fad-4e25-4b2f-9903-64361241a6f5",
   "metadata": {},
   "outputs": [
    {
     "name": "stdout",
     "output_type": "stream",
     "text": [
      "all the ids:  (243229, 114)\n",
      "unique ids for which we have slides:  (0, 114)\n",
      "number of mutations that have caused frameshift for which we have a slide : (0, 114)\n",
      "number of TP53 in lung lusc: (343, 114)\n",
      "number of TP53 in lung lusc for which we have a slide: (0, 114)\n",
      "number of TP53 in lung lusc that has cuased a framshift: (28, 114)\n",
      "number of TP53 in lung lusc for which we have a slide and has caused a frame shift: (0, 114)\n"
     ]
    }
   ],
   "source": [
    "#lunglc\n",
    "print(\"all the ids: \", data_mutation_lunglc.shape)\n",
    "print(\"unique ids for which we have slides: \", df_slide_present_ids_lunglc.shape)\n",
    "print(\"number of mutations that have caused frameshift for which we have a slide :\", df_all_frameshift_directory_present_lunglc.shape)\n",
    "print(\"number of TP53 in lung lusc:\", df_lunglc_tp53.shape)\n",
    "print(\"number of TP53 in lung lusc for which we have a slide:\",df_lunglc_tp53_directory_present.shape)\n",
    "print(\"number of TP53 in lung lusc that has cuased a framshift:\",df_lunglc_tp53_frameshift.shape)\n",
    "print(\"number of TP53 in lung lusc for which we have a slide and has caused a frame shift:\",df_lunglc_tp53_frameshift_directory_present.shape)"
   ]
  },
  {
   "cell_type": "markdown",
   "id": "86e8c1d0-a9f0-47a6-9674-d76a18272488",
   "metadata": {},
   "source": [
    "# creating the label files"
   ]
  },
  {
   "cell_type": "code",
   "execution_count": 47,
   "id": "a99391a5-4515-4800-8ca1-63246d25cfdf",
   "metadata": {},
   "outputs": [],
   "source": [
    "def has_tp53_barcode(file_name, barcodes):\n",
    "    \"\"\"\n",
    "    Return 1 if any of the TP53 barcodes appears in file_name, else 0.\n",
    "    \"\"\"\n",
    "    for bc in barcodes:\n",
    "        if bc in file_name:\n",
    "            return 1\n",
    "    return 0"
   ]
  },
  {
   "cell_type": "code",
   "execution_count": 48,
   "id": "e753f276-7efc-44b3-8326-939bc3f0683f",
   "metadata": {},
   "outputs": [],
   "source": [
    "##############################################################################\n",
    "#  Prostate\n",
    "##############################################################################\n",
    "directory_p = \"/data/temporary/amirhosein/model_script_prostate/pt_files\"\n",
    "file_names_p = os.listdir(directory_p)\n",
    "\n",
    "Prostate_Labels = pd.DataFrame(file_names_p, columns=['ID'])\n",
    "prostate_barcodes = df_prostate_tp53_directory_present['Tumor_Sample_Barcode'].astype(str).unique()\n",
    "Prostate_Labels['TP53'] = Prostate_Labels['ID'].apply(\n",
    "    lambda fn: has_tp53_barcode(fn, prostate_barcodes)\n",
    ")\n"
   ]
  },
  {
   "cell_type": "code",
   "execution_count": 49,
   "id": "d014d0c6-4238-43f9-ba9d-4ede2497d172",
   "metadata": {},
   "outputs": [
    {
     "data": {
      "text/html": [
       "<div>\n",
       "<style scoped>\n",
       "    .dataframe tbody tr th:only-of-type {\n",
       "        vertical-align: middle;\n",
       "    }\n",
       "\n",
       "    .dataframe tbody tr th {\n",
       "        vertical-align: top;\n",
       "    }\n",
       "\n",
       "    .dataframe thead th {\n",
       "        text-align: right;\n",
       "    }\n",
       "</style>\n",
       "<table border=\"1\" class=\"dataframe\">\n",
       "  <thead>\n",
       "    <tr style=\"text-align: right;\">\n",
       "      <th></th>\n",
       "      <th>ID</th>\n",
       "      <th>TP53</th>\n",
       "    </tr>\n",
       "  </thead>\n",
       "  <tbody>\n",
       "    <tr>\n",
       "      <th>0</th>\n",
       "      <td>TCGA-HC-A631-01Z-00-DX1.9771F112-D955-4F5A-819...</td>\n",
       "      <td>1</td>\n",
       "    </tr>\n",
       "    <tr>\n",
       "      <th>1</th>\n",
       "      <td>TCGA-QU-A6IN-01Z-00-DX1.B6E9CA11-BDB2-4F7F-B90...</td>\n",
       "      <td>0</td>\n",
       "    </tr>\n",
       "    <tr>\n",
       "      <th>2</th>\n",
       "      <td>TCGA-J4-A67S-01Z-00-DX1.69EA4B02-5CCA-4387-ABC...</td>\n",
       "      <td>0</td>\n",
       "    </tr>\n",
       "    <tr>\n",
       "      <th>3</th>\n",
       "      <td>TCGA-YL-A8SJ-01Z-00-DX3.C3493DD6-8AB2-42D2-A9A...</td>\n",
       "      <td>1</td>\n",
       "    </tr>\n",
       "    <tr>\n",
       "      <th>4</th>\n",
       "      <td>TCGA-CH-5750-01Z-00-DX1.88db9d82-82c0-44b7-87b...</td>\n",
       "      <td>0</td>\n",
       "    </tr>\n",
       "    <tr>\n",
       "      <th>...</th>\n",
       "      <td>...</td>\n",
       "      <td>...</td>\n",
       "    </tr>\n",
       "    <tr>\n",
       "      <th>443</th>\n",
       "      <td>TCGA-YL-A8SK-01Z-00-DX1.806C30FC-7C27-46A5-8EF...</td>\n",
       "      <td>0</td>\n",
       "    </tr>\n",
       "    <tr>\n",
       "      <th>444</th>\n",
       "      <td>TCGA-EJ-5514-01Z-00-DX1.82b0677b-fb3c-45ec-82c...</td>\n",
       "      <td>1</td>\n",
       "    </tr>\n",
       "    <tr>\n",
       "      <th>445</th>\n",
       "      <td>TCGA-HC-8212-01Z-00-DX1.d63209dd-5d1b-4362-aa8...</td>\n",
       "      <td>0</td>\n",
       "    </tr>\n",
       "    <tr>\n",
       "      <th>446</th>\n",
       "      <td>TCGA-HI-7170-01Z-00-DX1.a823f5e3-3285-4fa5-846...</td>\n",
       "      <td>0</td>\n",
       "    </tr>\n",
       "    <tr>\n",
       "      <th>447</th>\n",
       "      <td>TCGA-YL-A8SQ-01Z-00-DX1.0DFEF9A0-9C25-46F9-8EB...</td>\n",
       "      <td>0</td>\n",
       "    </tr>\n",
       "  </tbody>\n",
       "</table>\n",
       "<p>448 rows × 2 columns</p>\n",
       "</div>"
      ],
      "text/plain": [
       "                                                    ID  TP53\n",
       "0    TCGA-HC-A631-01Z-00-DX1.9771F112-D955-4F5A-819...     1\n",
       "1    TCGA-QU-A6IN-01Z-00-DX1.B6E9CA11-BDB2-4F7F-B90...     0\n",
       "2    TCGA-J4-A67S-01Z-00-DX1.69EA4B02-5CCA-4387-ABC...     0\n",
       "3    TCGA-YL-A8SJ-01Z-00-DX3.C3493DD6-8AB2-42D2-A9A...     1\n",
       "4    TCGA-CH-5750-01Z-00-DX1.88db9d82-82c0-44b7-87b...     0\n",
       "..                                                 ...   ...\n",
       "443  TCGA-YL-A8SK-01Z-00-DX1.806C30FC-7C27-46A5-8EF...     0\n",
       "444  TCGA-EJ-5514-01Z-00-DX1.82b0677b-fb3c-45ec-82c...     1\n",
       "445  TCGA-HC-8212-01Z-00-DX1.d63209dd-5d1b-4362-aa8...     0\n",
       "446  TCGA-HI-7170-01Z-00-DX1.a823f5e3-3285-4fa5-846...     0\n",
       "447  TCGA-YL-A8SQ-01Z-00-DX1.0DFEF9A0-9C25-46F9-8EB...     0\n",
       "\n",
       "[448 rows x 2 columns]"
      ]
     },
     "execution_count": 49,
     "metadata": {},
     "output_type": "execute_result"
    }
   ],
   "source": [
    "Prostate_Labels"
   ]
  },
  {
   "cell_type": "code",
   "execution_count": 50,
   "id": "f4b650b0-b28b-460d-9b95-30b42cfeca4d",
   "metadata": {},
   "outputs": [],
   "source": [
    "##############################################################################\n",
    "#  Breast\n",
    "##############################################################################\n",
    "directory_br = \"/data/temporary/amirhosein/modelscript_breast/pt_files\"\n",
    "file_names_br = os.listdir(directory_br)\n",
    "\n",
    "Breast_Labels = pd.DataFrame(file_names_br, columns=['ID'])\n",
    "\n",
    "# Suppose you have a df_breast_tp53 similarly filtered\n",
    "breast_barcodes = df_breast_tp53_directory_present['Tumor_Sample_Barcode'].astype(str).unique()\n",
    "\n",
    "Breast_Labels['TP53'] = Breast_Labels['ID'].apply(\n",
    "    lambda fn: has_tp53_barcode(fn, breast_barcodes)\n",
    ")\n"
   ]
  },
  {
   "cell_type": "code",
   "execution_count": 51,
   "id": "667cd97f-92ae-4692-9c33-2de2c1158145",
   "metadata": {},
   "outputs": [],
   "source": [
    "##############################################################################\n",
    "#  Bladder\n",
    "##############################################################################\n",
    "directory_bl = \"/data/pa_cpgarchive/archives/bladder/TCGA_diagnostics/images\"\n",
    "file_names_bl = os.listdir(directory_bl)\n",
    "\n",
    "Bladder_Labels = pd.DataFrame(file_names_bl, columns=['ID'])\n",
    "\n",
    "# Suppose you have a df_bladder_tp53 similarly filtered\n",
    "bladder_barcodes = df_bladder_tp53_directory_present['Tumor_Sample_Barcode'].astype(str).unique()\n",
    "\n",
    "Bladder_Labels['TP53'] = Bladder_Labels['ID'].apply(\n",
    "    lambda fn: has_tp53_barcode(fn, bladder_barcodes)\n",
    ")"
   ]
  },
  {
   "cell_type": "code",
   "execution_count": 52,
   "id": "9515e777-8646-4204-adef-86c5d5d512ac",
   "metadata": {},
   "outputs": [],
   "source": [
    "##############################################################################\n",
    "#  Skin\n",
    "##############################################################################\n",
    "directory_s = \"/data/pa_cpgarchive/archives/skin/tcga/svs\"\n",
    "file_names_s = os.listdir(directory_s)\n",
    "\n",
    "Skin_Labels = pd.DataFrame(file_names_s, columns=['ID'])\n",
    "\n",
    "# Suppose you have a df_skin_tp53 similarly filtered\n",
    "skin_barcodes = df_skin_tp53_directory_present['Tumor_Sample_Barcode'].astype(str).unique()\n",
    "\n",
    "Skin_Labels['TP53'] = Skin_Labels['ID'].apply(\n",
    "    lambda fn: has_tp53_barcode(fn, skin_barcodes)\n",
    ")"
   ]
  },
  {
   "cell_type": "code",
   "execution_count": 53,
   "id": "efb56819-8ff8-4d43-a79e-9c2d00a3e59c",
   "metadata": {
    "scrolled": true
   },
   "outputs": [
    {
     "data": {
      "text/plain": [
       "['TCGA-EE-A3JE-01Z-00-DX1.ABB4DD85-6E75-41F4-9A7E-60CA0E259FC9.svs',\n",
       " 'TCGA-D9-A4Z3-01Z-00-DX1.DD40CC06-5F33-4C8D-BE76-80189D969EBE.svs',\n",
       " 'TCGA-FS-A1ZW-06Z-00-DX6.0865819A-D6FF-4715-9B37-3B2A3462319D.svs',\n",
       " 'TCGA-ER-A2NF-01Z-00-DX2.01ACC455-4161-4EF1-8478-3C4DF709F6D6.svs',\n",
       " 'TCGA-EE-A2GU-01Z-00-DX1.72DD2321-B321-4A18-88FF-04B179B4C297.svs',\n",
       " 'TCGA-ER-A2NC-06Z-00-DX1.A7FE889C-F0D4-44BD-9373-96577D33C6FF.svs',\n",
       " 'TCGA-BF-AAP7-01Z-00-DX1.E3AD2956-2918-459A-B6B0-E4662587AF3B.svs',\n",
       " 'TCGA-EB-A6R0-01Z-00-DX1.9A8D78EB-C83D-4829-A1E1-877B847D010F.svs',\n",
       " 'TCGA-ER-A195-01Z-00-DX1.90F626B4-B6B2-45FB-AABC-1E984AE08237.svs',\n",
       " 'TCGA-FS-A1Z7-06Z-00-DX9.7F36F443-CADB-4146-8B26-82E60DC88E55.svs',\n",
       " 'TCGA-FS-A1ZU-06Z-00-DX3.0C477EE6-C085-42BE-8BAD-E3D6935ABE48.svs',\n",
       " 'TCGA-WE-A8ZR-06Z-00-DX1.52E1652B-F713-4DEE-B699-FE9D0719A43C.svs',\n",
       " 'TCGA-GN-A26C-01Z-00-DX1.E6395A6B-21CA-4994-9F01-738B915ADFB8.svs',\n",
       " 'TCGA-EE-A2MP-01Z-00-DX1.4A7DAF7C-078D-4068-A443-049D702098FF.svs',\n",
       " 'TCGA-EE-A3JI-01Z-00-DX1.4648812E-2D0A-43DE-9BCF-2D88C312B025.svs',\n",
       " 'TCGA-EE-A183-01Z-00-DX1.7A69310E-0011-48BD-A0CF-FA9385D1D00A.svs',\n",
       " 'TCGA-EE-A3J8-01Z-00-DX1.4FAFDA16-1B9B-4D5C-9763-8390729E0F05.svs',\n",
       " 'TCGA-EB-A24C-01Z-00-DX1.C6E7D89C-885B-46B1-B8DE-C4CEE5992A4A.svs',\n",
       " 'TCGA-FR-A7UA-01Z-00-DX1.9BF4783D-9277-485D-A46E-AC317E186B3C.svs',\n",
       " 'TCGA-D3-A3CC-06Z-00-DX1.6C3A3EDF-F69F-4719-B4A7-DC32118051CB.svs',\n",
       " 'TCGA-EE-A3AC-01Z-00-DX1.88164694-3D29-4D4F-AFF1-8E8425FA7A56.svs',\n",
       " 'TCGA-D9-A1X3-06Z-00-DX1.17AC16CC-5B22-46B3-B9C4-9E1F9C688D84.svs',\n",
       " 'TCGA-QB-A6FS-01Z-00-DX1.22C6E37E-DB61-45FA-8D11-A544209C4219.svs',\n",
       " 'TCGA-FR-A44A-01Z-00-DX1.CFAA3A41-8E06-499C-8C1C-CC1B254154D1.svs',\n",
       " 'TCGA-D3-A8GL-06Z-00-DX1.B99BBB77-08A8-4B5C-B1DF-7CB5416CEFF1.svs',\n",
       " 'TCGA-FS-A1ZD-06Z-00-DX3.04C0700C-C2DD-4EA9-B69A-EC42AB487847.svs',\n",
       " 'TCGA-WE-A8ZO-06Z-00-DX1.6679C145-BB41-4696-96FE-94646701122F.svs',\n",
       " 'TCGA-EE-A3AE-01Z-00-DX1.4B4AD817-D988-4BBF-89C7-9E0D0E5BBE05.svs',\n",
       " 'TCGA-GN-A9SD-06Z-00-DX1.B013023E-1764-4607-B86E-CE984CBBFB1B.svs',\n",
       " 'TCGA-D3-A1QB-06Z-00-DX1.45F27045-0EF1-4C33-9558-C1832E6BFBED.svs',\n",
       " 'TCGA-EB-A4P0-01Z-00-DX1.9B525DEA-619A-43B6-B9C4-BB98511DEE56.svs',\n",
       " 'TCGA-EE-A29Q-01Z-00-DX1.D4F7A68E-1099-443A-8521-41BD69501FA2.svs',\n",
       " 'TCGA-FR-A729-01Z-00-DX1.90FA96F1-549C-4E9A-B9EC-F7EBA35FCC0D.svs',\n",
       " 'TCGA-FR-A3R1-01Z-00-DX1.D6EB7ABD-9AD8-44B8-9055-782C272A65F4.svs',\n",
       " 'TCGA-ER-A19T-01Z-00-DX2.FEB8038D-2930-4216-ADCB-164A31922CBD.svs',\n",
       " 'TCGA-EE-A2M7-01Z-00-DX1.9BC4B066-11FD-4606-8D2D-66757BD5C0AD.svs',\n",
       " 'TCGA-EE-A2MS-06Z-00-DX1.76FF55CE-10D0-4A93-AB1D-81AFB910410B.svs',\n",
       " 'TCGA-RP-A694-01Z-00-DX1.31B4F597-0CDA-4A3B-B34E-881ADCAB17DF.svs',\n",
       " 'TCGA-EE-A2MF-01Z-00-DX1.334F600B-994A-4C13-8AD0-6CA622A20230.svs',\n",
       " 'TCGA-FR-A8YE-06Z-00-DX1.3B3CEEB1-86BF-4B7D-A6B8-5421552F6CCB.svs',\n",
       " 'TCGA-FS-A1ZW-06Z-00-DX9.0DDE021F-F82C-4329-8032-D75E99FE6348.svs',\n",
       " 'TCGA-XV-A9VZ-01Z-00-DX1.D8D2E930-0749-485E-B300-A40C037A7785.svs',\n",
       " 'TCGA-DA-A3F8-01Z-00-DX1.ACE3310A-0BB5-4243-82EF-92CABB53830C.svs',\n",
       " 'TCGA-DA-A1HW-01Z-00-DX1.5AB192DF-B8F9-47D2-96CC-3831E73BD640.svs',\n",
       " 'TCGA-D3-A8GM-06Z-00-DX1.70B7B587-81C9-472A-8E31-71D3892156BA.svs',\n",
       " 'TCGA-FR-A7U9-01Z-00-DX1.7835C72B-C5CB-4EBB-BA41-EF1B6E40E131.svs',\n",
       " 'TCGA-EE-A29H-01Z-00-DX1.A0FAC7B5-384A-4178-ABAD-4C6A8A258AE2.svs',\n",
       " 'TCGA-D3-A1QA-07Z-00-DX1.FF80DD52-540E-4378-BAC8-F229ABF5411A.svs',\n",
       " 'TCGA-EB-A5UL-06Z-00-DX1.1E65A435-D10E-416E-A23B-6C31BAA9A975.svs',\n",
       " 'TCGA-EE-A3JA-06Z-00-DX1.616ADF60-1EBE-4082-97D8-25AFEF393429.svs',\n",
       " 'TCGA-EE-A2MI-01Z-00-DX1.1C56D0A7-3FA7-49A6-BBCA-0E6B7BFEA3B5.svs',\n",
       " 'TCGA-W3-AA1Q-01Z-00-DX1.EC1690AB-35AD-47EE-BD1C-8C6C56715B75.svs',\n",
       " 'TCGA-W3-AA1W-01Z-00-DX1.4EF540FF-7B1B-4085-B177-9526FCDA432F.svs',\n",
       " 'TCGA-EB-A5SE-01Z-00-DX1.2E10E7EF-B902-479F-ACBF-E852836FF7B9.svs',\n",
       " 'TCGA-ER-A19P-01Z-00-DX1.5B9541C0-0651-4E35-B2CB-0F6E52E6BACA.svs',\n",
       " 'TCGA-D3-A2J8-06Z-00-DX1.5FB8E98F-EAFF-491F-856D-49A68542A3E1.svs',\n",
       " 'TCGA-GN-A26A-06Z-00-DX1.2294E1F5-CAE6-459C-A27C-04235DAA77C6.svs',\n",
       " 'TCGA-BF-A1PZ-01Z-00-DX1.7732293F-0BDD-4688-A112-5104C38E680B.svs',\n",
       " 'TCGA-D3-A8GV-06Z-00-DX1.55C6D578-36A6-474B-8DD5-F8FFD41635B6.svs',\n",
       " 'TCGA-EE-A2MT-01Z-00-DX1.B1E6C782-FC71-412D-848E-EA25F0FEC141.svs',\n",
       " 'TCGA-D3-A5GU-06Z-00-DX1.17B59BCE-262E-4575-ABDE-7F01BDAEAF1E.svs',\n",
       " 'TCGA-FS-A1ZN-01Z-00-DX3.4DAB37E0-79FB-4B8B-BA51-3441A2129F2C.svs',\n",
       " 'TCGA-FS-A1Z7-06Z-00-DX7.6E09A9E9-82D9-4D29-9E7F-14BC9C5DC105.svs',\n",
       " 'TCGA-3N-A9WB-01Z-00-DX1.A9950ED4-9480-455C-AE0D-8E076D4DA432.svs',\n",
       " 'TCGA-FS-A1ZN-01Z-00-DX5.2BE51074-7E23-41C0-A3EA-1A84BF812048.svs',\n",
       " 'TCGA-YD-A9TA-01Z-00-DX1.FA69A80D-A4CF-4008-BE27-58D4F8B30827.svs',\n",
       " 'TCGA-FS-A1ZN-01Z-00-DX2.78D26246-C824-450A-B055-BDC9BBC38D2B.svs',\n",
       " 'TCGA-EE-A2GS-01Z-00-DX1.77D6F0AA-5D58-4863-BC0C-362B3063756D.svs',\n",
       " 'TCGA-EB-A430-01Z-00-DX1.96CA9E52-03F0-4565-959D-B9BB5F95EB9D.svs',\n",
       " 'TCGA-D3-A8GE-06Z-00-DX1.757AE9F7-823E-4167-B12C-F6DA031B21D1.svs',\n",
       " 'TCGA-EE-A3J4-01Z-00-DX1.3591B827-F348-4A55-A9CF-910F46EFA79F.svs',\n",
       " 'TCGA-EE-A2MU-01Z-00-DX1.B7B9D5C6-B571-44B5-9B4A-10380F29F4CF.svs',\n",
       " 'TCGA-GN-A4U5-01Z-00-DX1.809E353D-07E7-4AC7-9ABD-8D59E59E4897.svs',\n",
       " 'TCGA-D3-A3CE-06Z-00-DX1.145E1202-3B59-40D8-A8B6-33B3A26E7282.svs',\n",
       " 'TCGA-FR-A728-01Z-00-DX1.FF67AF45-E879-449F-BAA1-73B3DB4D79FA.svs',\n",
       " 'TCGA-EE-A2A0-06Z-00-DX1.270C855C-3B9F-4927-ABDA-35829213FFDF.svs',\n",
       " 'TCGA-GN-A4U9-06Z-00-DX1.2CDE342D-969E-498C-80C8-9D37C6A2B0F1.svs',\n",
       " 'TCGA-EB-A3XD-01Z-00-DX1.B0C8A3FE-21A5-4807-9343-0BFD9DFCA458.svs',\n",
       " 'TCGA-GF-A769-01Z-00-DX1.17FA4EC6-053F-4F98-AF08-FA609776CDB9.svs',\n",
       " 'TCGA-FS-A1ZW-06Z-00-DX3.92935375-C146-4E55-B27C-70017227B5A2.svs',\n",
       " 'TCGA-EB-A97M-01Z-00-DX1.631C79E5-6973-4BA2-A4B3-E57B3991851A.svs',\n",
       " 'TCGA-ER-A3PL-01Z-00-DX1.D8724F60-92DD-4727-943E-51C89E219813.svs',\n",
       " 'TCGA-EB-A85I-01Z-00-DX1.8049AEB4-083E-4907-BCD9-23A7B83B54A7.svs',\n",
       " 'TCGA-DA-A95X-01Z-00-DX1.F66442E6-F0C9-4528-B000-E47FCAA964FD.svs',\n",
       " 'TCGA-ER-A2ND-01Z-00-DX1.F2F060DC-995C-467C-8C5C-2C041BB13AD0.svs',\n",
       " 'TCGA-EB-A4OZ-01Z-00-DX1.1E6DD3CF-EEAB-4EA7-9386-2E0044EBEEC5.svs',\n",
       " 'TCGA-EE-A3J5-06Z-00-DX1.47202780-2B18-4661-AD4E-2AF8D1A7C9E5.svs',\n",
       " 'TCGA-WE-A8ZX-06Z-00-DX1.10C85249-C309-4801-A21A-ADA9900239C4.svs',\n",
       " 'TCGA-D3-A3C6-06Z-00-DX1.AEAFE336-C5BC-4EC0-A869-14DCB44700CD.svs',\n",
       " 'TCGA-BF-AAP4-01Z-00-DX1.BDD3060D-2FC8-4792-807B-B37D2B09D35B.svs',\n",
       " 'TCGA-EE-A184-01Z-00-DX1.66D44004-A355-42FA-A21B-2911C132B0CE.svs',\n",
       " 'TCGA-DA-A1IC-01Z-00-DX1.8977B7B8-0F31-4255-8A7F-B47676854BE7.svs',\n",
       " 'TCGA-EB-A51B-01Z-00-DX1.BC8C3CE2-CDF5-4BCE-A766-71652F40EFCE.svs',\n",
       " 'TCGA-FS-A1ZN-01Z-00-DX7.350F3A9C-29B0-42D6-808F-EC671D923B8D.svs',\n",
       " 'TCGA-EB-A44O-06Z-00-DX1.788C33F2-3766-4792-B8DF-52C5F3E8AEDB.svs',\n",
       " 'TCGA-EB-A57M-01Z-00-DX1.FDE6CE11-9236-464B-ADDC-361FDD7CD8E6.svs',\n",
       " 'TCGA-D9-A1JX-06Z-00-DX2.0B0F653F-D2C8-40EE-AF07-5A3DF2E3DD35.svs',\n",
       " 'TCGA-GN-A266-06Z-00-DX1.BE2DBE7E-A08E-4EB8-8287-52353ED5D02A.svs',\n",
       " 'TCGA-FS-A1Z7-06Z-00-DX8.841B85F8-B1FD-4ACC-8879-8FCC1F98FFC4.svs',\n",
       " 'TCGA-FW-A3TU-01Z-00-DX1.ACF63772-CD4E-4863-8B06-869E288A70F1.svs',\n",
       " 'TCGA-EB-A5UN-06Z-00-DX1.A3554E02-198F-48CA-A055-FF9D617C2B11.svs',\n",
       " 'TCGA-D9-A6EG-01Z-00-DX1.224060CB-3AFF-4EF8-9743-9EC49F918B06.svs',\n",
       " 'TCGA-YG-AA3P-01Z-00-DX1.A7495FDB-C66E-4633-A29C-0FE7A4823E28.svs',\n",
       " 'TCGA-BF-A5EQ-01Z-00-DX1.8B6B7B53-66A9-43B1-A223-21D7778F6EE7.svs',\n",
       " 'TCGA-EE-A3AD-01Z-00-DX1.43458789-DF9D-4CF4-8CE6-C6C4112B89D0.svs',\n",
       " 'TCGA-GF-A3OT-01Z-00-DX1.014B8884-EE9D-4F3A-81BB-9DCAC92CC2AE.svs',\n",
       " 'TCGA-EB-A24D-01Z-00-DX1.32127705-0E27-489D-8639-DD58EE59A61D.svs',\n",
       " 'TCGA-EB-A3Y6-01Z-00-DX1.95CD1743-DDC4-4ABF-8C48-1C93FEA54D13.svs',\n",
       " 'TCGA-BF-AAOU-01Z-00-DX1.9DC6A879-0AF0-4301-A027-248ACDBB301D.svs',\n",
       " 'TCGA-FS-A1ZW-06Z-00-DX2.EBF59BD5-B85F-4FDF-B52C-2062F03BA59E.svs',\n",
       " 'TCGA-D9-A6E9-01Z-00-DX1.A28F9E6C-2200-47D0-BA68-CD34F6EB52C2.svs',\n",
       " 'TCGA-EE-A29W-01Z-00-DX1.5C3B9CDC-43EB-4E9E-85D2-7B83BE7AB6F0.svs',\n",
       " 'TCGA-GF-A6C9-06Z-00-DX1.87770B34-BB1A-4719-939F-68AE6BF567F9.svs',\n",
       " 'TCGA-YG-AA3N-01Z-00-DX1.21350D99-44EB-42AF-83F8-90A059952FE4.svs',\n",
       " 'TCGA-D3-A3CB-06Z-00-DX1.9862D604-C9E7-44BE-99E2-AB9883B1873E.svs',\n",
       " 'TCGA-DA-A1HV-01Z-00-DX1.1206FAE0-BC4B-494B-923F-3EF8830F2EDA.svs',\n",
       " 'TCGA-D3-A2JN-06Z-00-DX1.0AA7684E-2886-4A00-B808-39EA790B825A.svs',\n",
       " 'TCGA-EE-A2GL-01Z-00-DX1.31E43C43-C18B-4AE7-8AB7-7815718ED76D.svs',\n",
       " 'TCGA-D3-A5GO-06Z-00-DX1.DF1F3837-B866-40F4-B2E7-244F94DD0065.svs',\n",
       " 'TCGA-EE-A2GN-01Z-00-DX1.CC2B5420-6636-4CC3-AD84-AE8B2751675D.svs',\n",
       " 'TCGA-BF-A1PU-01Z-00-DX1.CB0A52E3-16A9-46B2-BBE1-149A6CAAB9CF.svs',\n",
       " 'TCGA-3N-A9WC-01Z-00-DX1.C833FCAB-6329-4F90-88E5-CFDA0948047B.svs',\n",
       " 'TCGA-D9-A3Z3-06Z-00-DX2.E2C62CF8-CFC4-4315-B14A-59ABD0A8B959.svs',\n",
       " 'TCGA-D9-A6EA-01Z-00-DX1.4EC8653B-A344-4F8F-9B5D-17B9FF444DC0.svs',\n",
       " 'TCGA-EE-A3AG-01Z-00-DX1.75BA8FFE-82A0-4FE0-B538-2451561DA164.svs',\n",
       " 'TCGA-D3-A2JO-06Z-00-DX1.86BF4C7D-5A0B-4BD8-9928-A07A4FF14272.svs',\n",
       " 'TCGA-FS-A1Z7-06Z-00-DX1.7DD0AE3F-7305-4CA4-9A8D-118A59DE2328.svs',\n",
       " 'TCGA-GN-A4U4-06Z-00-DX1.A9927319-9AE2-46A1-B68D-435E47CA2E09.svs',\n",
       " 'TCGA-D9-A1JX-06Z-00-DX1.C9C0FE8D-5FB3-410F-9BBE-C831BDA24A7E.svs',\n",
       " 'TCGA-ER-A196-01Z-00-DX1.54FAFEC7-851D-4D8A-9F25-B334F52548D4.svs',\n",
       " 'TCGA-D3-A51H-06Z-00-DX1.33682556-776F-42B4-BA36-05E973FF276E.svs',\n",
       " 'TCGA-DA-A1I1-01Z-00-DX1.08A88C76-48C4-4724-AF64-24F99B7D33AD.svs',\n",
       " 'TCGA-GF-A4EO-01Z-00-DX1.A895033F-BC64-4871-8292-BCEB4FF5B9DE.svs',\n",
       " 'TCGA-D3-A51E-06Z-00-DX1.819FF689-47EB-468E-A9C1-5205951F69C0.svs',\n",
       " 'TCGA-EE-A2GO-01Z-00-DX1.2A8B9951-8526-426F-98FA-205DFC6980C3.svs',\n",
       " 'TCGA-ER-A19D-01Z-00-DX1.14682B98-9080-48C5-96D0-C4678456D80D.svs',\n",
       " 'TCGA-EE-A29M-01Z-00-DX1.B8AD762F-33AD-4A91-8366-5415677614BB.svs',\n",
       " 'TCGA-RP-A6K9-01Z-00-DX1.4B236014-BF37-4DB1-89C8-3C598A0D489D.svs',\n",
       " 'TCGA-EE-A2GE-01Z-00-DX1.2B876F5F-751B-4416-942D-42D3A1E7E0A7.svs',\n",
       " 'TCGA-D3-A2J9-06Z-00-DX1.5526CFD6-96AB-49F8-B88C-DC9DC5E349F0.svs',\n",
       " 'TCGA-EB-A5KH-06Z-00-DX1.BBB3714B-4514-437F-BD3F-72783EC861C3.svs',\n",
       " 'TCGA-D3-A1Q4-06Z-00-DX1.6AD7BBBD-BB47-4D71-B467-7694A441D0BA.svs',\n",
       " 'TCGA-FW-A3I3-06Z-00-DX1.C00AB7EB-C272-4B74-B540-47B31D731EDB.svs',\n",
       " 'TCGA-D3-A2JE-06Z-00-DX1.71482107-04E7-4DB6-873A-F68DC4F8C0D1.svs',\n",
       " 'TCGA-ER-A19S-01Z-00-DX1.D8232ED9-8183-4BF7-8B63-58A9481B3CD1.svs',\n",
       " 'TCGA-D3-A5GN-06Z-00-DX1.3E767456-45E7-43CD-B5CD-2162C7EB4B05.svs',\n",
       " 'TCGA-FS-A1ZC-06Z-00-DX2.D276DA18-BE05-4E67-9C91-DB2560078E3B.svs',\n",
       " 'TCGA-WE-AA9Y-06Z-00-DX1.83813BA4-04FA-4AEA-A50D-B962A753A59E.svs',\n",
       " 'TCGA-DA-A1HY-01Z-00-DX1.937DA5C0-00AB-409E-AB57-5B7B41ECC2EB.svs',\n",
       " 'TCGA-EB-A82B-01Z-00-DX1.79E2EC10-1F21-4CC1-BF07-0FA6571C4ABC.svs',\n",
       " 'TCGA-GN-A26D-01Z-00-DX1.C15A8493-006C-4595-864C-DA8DA21ADADE.svs',\n",
       " 'TCGA-FS-A1Z7-06Z-00-DX4.4559CF24-0E79-4A62-A06C-057CB6B58223.svs',\n",
       " 'TCGA-EE-A3AB-01Z-00-DX1.68728071-FC84-400C-8F34-0F28CC1178C0.svs',\n",
       " 'TCGA-D9-A1JW-06Z-00-DX2.8CEC70B1-F341-4BA9-BBA4-F2418363108D.svs',\n",
       " 'TCGA-EE-A2GR-01Z-00-DX1.A84F7FE6-EE4E-4DD2-A0DF-856923EFE661.svs',\n",
       " 'TCGA-EB-A3XF-01Z-00-DX1.D381AAB4-242B-45E1-B6A2-DC07D1BF9A02.svs',\n",
       " 'TCGA-FS-A1Z7-06Z-00-DX6.84CCDA65-9DC1-4235-900C-F3B54A39A9D7.svs',\n",
       " 'TCGA-D3-A3MV-06Z-00-DX1.C06EECC4-8DA7-4432-8FEC-7A5ED82E21CB.svs',\n",
       " 'TCGA-D9-A3Z1-06Z-00-DX1.ECFEE77E-D5FA-4264-9CC6-41E76CFAF104.svs',\n",
       " 'TCGA-WE-A8JZ-06Z-00-DX1.071CA5D6-D02C-4B69-AFA8-A43654FECAEA.svs',\n",
       " 'TCGA-YG-AA3O-01Z-00-DX1.0BA2C29A-4D35-478F-9E06-A50ED97B55CC.svs',\n",
       " 'TCGA-GN-A263-01Z-00-DX1.94D0B4EA-8AF9-415E-9D08-BF1F9903D468.svs',\n",
       " 'TCGA-EE-A20F-01Z-00-DX1.78401458-3FDA-4D9D-8567-878E6D28EF5C.svs',\n",
       " 'TCGA-EE-A3JB-01Z-00-DX1.8DE830FB-6EA5-4058-B919-1AEB84D69B70.svs',\n",
       " 'TCGA-EE-A29C-01Z-00-DX1.B81B53D4-EE33-49BB-A07D-CDE2ADA776F2.svs',\n",
       " 'TCGA-EB-A4IS-01Z-00-DX1.4012788D-5127-4471-AED3-0D3E29CFC4B1.svs',\n",
       " 'TCGA-ER-A19Q-01Z-00-DX1.F771D26A-C1B8-4693-AE25-E0045E473677.svs',\n",
       " 'TCGA-RP-A693-01Z-00-DX1.5ED851A8-8E45-488A-878C-58B1E9395CC0.svs',\n",
       " 'TCGA-ER-A19C-01Z-00-DX1.939394BD-E2B3-4DC7-9DCF-B380A38F76C7.svs',\n",
       " 'TCGA-EE-A2MJ-01Z-00-DX1.9D80E9EC-CDC4-4162-993E-4586A8E573A1.svs',\n",
       " 'TCGA-D3-A2J6-06Z-00-DX1.1E4860D2-EC44-47BA-88AD-CE524E3CC2B7.svs',\n",
       " 'TCGA-YD-A9TB-01Z-00-DX2.BFDBD5B4-486D-41B1-A123-DC1966D4BF52.svs',\n",
       " 'TCGA-FS-A1ZN-01Z-00-DX8.B2DB6F82-BB70-438B-94BD-C621E9C9ECE7.svs',\n",
       " 'TCGA-GN-A267-01Z-00-DX1.6D5A4B3A-2A45-414A-B69D-D53265203017.svs',\n",
       " 'TCGA-WE-A8K1-06Z-00-DX1.78AB8C19-41B2-4BAB-AD11-48051A2E4C78.svs',\n",
       " 'TCGA-EB-A44R-01Z-00-DX1.248EF261-D351-4278-B689-79947A8125DC.svs',\n",
       " 'TCGA-D3-A2JF-06Z-00-DX1.1AD134CC-6844-45CC-BEC2-46F487356703.svs',\n",
       " 'TCGA-EE-A3JH-01Z-00-DX1.C1558CB7-A35E-4EC2-A615-219D6FB0E06B.svs',\n",
       " 'TCGA-EB-A5SH-06Z-00-DX1.2C9CB59B-C09A-487F-BAB7-E71F84DDB985.svs',\n",
       " 'TCGA-YD-A89C-06Z-00-DX1.E1F14C6C-EA1D-4121-BB3F-A72AD8A0EB70.svs',\n",
       " 'TCGA-FR-A8YC-06Z-00-DX1.C74DAE48-0901-4858-A47B-CAF5ED89C5D0.svs',\n",
       " 'TCGA-FS-A1ZC-06Z-00-DX1.9D418455-6B30-4042-8A2D-45631D49EADD.svs',\n",
       " 'TCGA-ER-A19A-01Z-00-DX1.75490B10-9604-4846-96BA-E932489E51AB.svs',\n",
       " 'TCGA-D9-A1JW-06Z-00-DX1.7BDC2E73-12DC-496D-8DCF-A56120D16C0B.svs',\n",
       " 'TCGA-FR-A2OS-01Z-00-DX1.9F35411B-FFCE-4BD7-8161-68DE08C67AB8.svs',\n",
       " 'TCGA-DA-A1I2-01Z-00-DX1.C1001885-ABFE-47B6-A49A-AD118D4FB619.svs',\n",
       " 'TCGA-D9-A4Z2-01Z-00-DX1.0A277A05-ADB5-442B-BBB7-6914B829C66C.svs',\n",
       " 'TCGA-D3-A3C7-06Z-00-DX1.A58D75D7-369A-4CC0-B2AB-E781AA162915.svs',\n",
       " 'TCGA-EB-A5SF-01Z-00-DX1.8083AB94-89EF-4741-8EE7-86EAC50B86B1.svs',\n",
       " 'TCGA-D3-A5GT-06Z-00-DX1.9B6B1D66-BE1E-481D-B8BE-F782CC1C2FF3.svs',\n",
       " 'TCGA-D3-A2JB-06Z-00-DX1.BA8C1987-4474-47FE-8FDC-D15C2A41AC90.svs',\n",
       " 'TCGA-EE-A2GT-01Z-00-DX1.D3BA94B8-89D6-4495-A36B-8C47A56DFD44.svs',\n",
       " 'TCGA-GN-A4U7-06Z-00-DX1.4323B2C4-AFC3-454E-AD19-52A52D2636FA.svs',\n",
       " 'TCGA-ER-A19N-01Z-00-DX1.8EE30DC5-C847-466A-8283-7AEF32EE0EB6.svs',\n",
       " 'TCGA-ER-A2NF-01Z-00-DX1.1468DD2D-6AC8-4657-A02E-E520668C676F.svs',\n",
       " 'TCGA-EB-A4IQ-01Z-00-DX1.C9F9D585-C34F-4771-9BE7-5E8CBE15EF0A.svs',\n",
       " 'TCGA-D3-A3C3-06Z-00-DX1.E5A8F232-C772-461D-A997-BF97599E4E66.svs',\n",
       " 'TCGA-D9-A1X3-06Z-00-DX2.B7119EA5-DADA-456F-B4A0-BF45E44E0BCF.svs',\n",
       " 'TCGA-D3-A3C1-06Z-00-DX1.F6C5DABC-9FEB-4A55-A764-6958046CFE39.svs',\n",
       " 'TCGA-EB-A5VV-06Z-00-DX1.35151DAB-2548-46B3-BD1F-BF026DE31385.svs',\n",
       " 'TCGA-DA-A1I5-01Z-00-DX1.ECAD6ABE-503B-4C8F-A964-EDACB5A01C60.svs',\n",
       " 'TCGA-EE-A2GH-01Z-00-DX1.42CDC27D-0C69-437B-9569-21FE55DCB56A.svs',\n",
       " 'TCGA-EE-A182-01Z-00-DX1.54C1716E-64EB-424C-A5E2-E6C9B1BBC600.svs',\n",
       " 'TCGA-ER-A194-01Z-00-DX1.60EDD566-BE2B-4199-9C07-63E938C5CDB4.svs',\n",
       " 'TCGA-EE-A2M5-01Z-00-DX1.8F00BDE7-5445-49BB-98FA-694C197BD3CF.svs',\n",
       " 'TCGA-EE-A29N-01Z-00-DX1.9842217A-23B9-40CA-91CE-D83F8DFD7A0B.svs',\n",
       " 'TCGA-WE-A8K5-06Z-00-DX1.88DA18DD-8CB6-4214-97C8-CCE566619649.svs',\n",
       " 'TCGA-FR-A7U8-01Z-00-DX1.12C72E0F-2325-4AFD-8A2D-473CD2D80610.svs',\n",
       " 'TCGA-EE-A3AF-01Z-00-DX1.8EA9A3D2-FDA6-4BCE-AC29-174003739C48.svs',\n",
       " 'TCGA-EE-A2MH-01Z-00-DX1.8DC9BBBE-4B8E-4722-B0CE-44059DD01010.svs',\n",
       " 'TCGA-EE-A29E-01Z-00-DX1.1A723FE9-A029-4FE5-8BD4-F12FB32FC482.svs',\n",
       " 'TCGA-D3-A51F-06Z-00-DX1.ACABF227-3D3C-4490-A075-7D711BB34675.svs',\n",
       " 'TCGA-EE-A2MN-01Z-00-DX1.F91FB49A-E798-49F4-AAE3-94A76B457359.svs',\n",
       " 'TCGA-W3-A825-06Z-00-DX1.0C817E5E-BD62-4476-A5C0-DDFA8F41681E.svs',\n",
       " 'TCGA-DA-A3F3-01Z-00-DX1.8F546F95-2071-41E5-A0D4-66AB7B46DCFD.svs',\n",
       " 'TCGA-D3-A1Q9-06Z-00-DX1.DBECA4A2-6BCF-4EA3-91F5-10E7F93DDD23.svs',\n",
       " 'TCGA-D3-A51K-06Z-00-DX1.CBDB017A-31B3-430E-B69B-5789F79504B2.svs',\n",
       " 'TCGA-D3-A1Q6-06Z-00-DX1.01DE293A-473C-4011-88DF-4863F7CE1843.svs',\n",
       " 'TCGA-EE-A17Z-01Z-00-DX1.E7BB5E1F-8D10-410B-BC1F-86BADAC0E46B.svs',\n",
       " 'TCGA-BF-A5EP-01Z-00-DX1.71203389-D158-4FBC-B55C-D1829AE33F77.svs',\n",
       " 'TCGA-ER-A2NG-01Z-00-DX1.35B12E55-502A-4B87-A681-629A63AEC447.svs',\n",
       " 'TCGA-D3-A1QA-06Z-00-DX1.FDAEC5FD-E0C9-4B7A-8C21-00D4E8792F4F.svs',\n",
       " 'TCGA-EE-A2M8-01Z-00-DX1.E06EBE5D-184E-40A2-8527-8EBC59409990.svs',\n",
       " 'TCGA-W3-AA1V-01Z-00-DX1.86F0DF30-1FB8-4316-8126-0C6CCF82A06E.svs',\n",
       " 'TCGA-D3-A2JD-06Z-00-DX1.B6DBA83D-6C77-4F73-87B8-30487C8AB7C1.svs',\n",
       " 'TCGA-DA-A960-01Z-00-DX1.89BAEF28-636F-4A4D-B4D7-399073693D79.svs',\n",
       " 'TCGA-EB-A3HV-01Z-00-DX1.5DBE221C-26F1-4570-90CB-74F06CF96567.svs',\n",
       " 'TCGA-EE-A29B-01Z-00-DX1.879D9639-D004-450B-8DB8-DE9CDBD0AEE3.svs',\n",
       " 'TCGA-GN-A8LN-01Z-00-DX1.68E5D36A-6C6D-4BCD-B005-25B978441EE6.svs',\n",
       " 'TCGA-D3-A8GR-06Z-00-DX1.B5B05EF4-7ECC-435C-BEFE-F0D9786B6D4B.svs',\n",
       " 'TCGA-EB-A550-01Z-00-DX1.10817DE0-BB6B-4539-9945-7B1B5B314C83.svs',\n",
       " 'TCGA-D3-A51J-06Z-00-DX1.A292E5D2-B00F-400B-875D-6C57E215A29E.svs',\n",
       " 'TCGA-EB-A42Y-01Z-00-DX1.C2F1ACDE-A147-4CAD-AB46-B1A4632BB4A7.svs',\n",
       " 'TCGA-EB-A551-01Z-00-DX1.0EBD6C27-1F3A-4732-9AAF-10521313C45F.svs',\n",
       " 'TCGA-D3-A51G-06Z-00-DX1.4AE56306-4049-4854-82FD-8445F872D05F.svs',\n",
       " 'TCGA-EB-A41A-01Z-00-DX1.76C495EA-698C-465C-B2FA-5AF9269CED6C.svs',\n",
       " 'TCGA-ER-A19B-01Z-00-DX1.DAEE8E5D-C4AC-419E-A4E0-2164051F22F0.svs',\n",
       " 'TCGA-EE-A2MC-01Z-00-DX1.F91A5A23-F552-4D34-9848-F95892E1B2C9.svs',\n",
       " 'TCGA-DA-A95Z-01Z-00-DX1.E34FE26D-097D-4469-8ED3-5AA2EA346033.svs',\n",
       " 'TCGA-EE-A2MM-01Z-00-DX1.8EBF6AD7-6812-4779-932A-665F898E18AA.svs',\n",
       " 'TCGA-FR-A3YO-01Z-00-DX1.BD401359-62AF-4A4A-B15C-290E07651153.svs',\n",
       " 'TCGA-ER-A42L-06Z-00-DX1.EFC23C96-F0A5-4ADA-BE77-11B967531BEC.svs',\n",
       " 'TCGA-FW-A3TV-01Z-00-DX1.A7C4EFEE-BA3D-4A62-A911-67F7E49CCC10.svs',\n",
       " 'TCGA-EE-A29X-01Z-00-DX1.849003E0-F750-4D6C-9A68-AD4E894FDF00.svs',\n",
       " 'TCGA-FS-A1ZU-06Z-00-DX2.915D16DA-7F85-4B15-A325-E3B03BDB20CD.svs',\n",
       " 'TCGA-EE-A3AA-01Z-00-DX1.8AAA0943-A542-4FA7-A649-AD79CEE24458.svs',\n",
       " 'TCGA-EE-A2GD-01Z-00-DX1.5B1A9F5D-96DC-4E66-9162-A58564B06322.svs',\n",
       " 'TCGA-EE-A2ML-01Z-00-DX1.5AB5178E-7A4D-453D-929C-CB00C7D6868E.svs',\n",
       " 'TCGA-D3-A8GJ-06Z-00-DX1.E4BCDD38-3A8B-4CBF-BE4F-918F56B4BAE7.svs',\n",
       " 'TCGA-D9-A4Z5-01Z-00-DX1.88AC8735-B520-4FCE-BC0B-AA6A611CE2D7.svs',\n",
       " 'TCGA-RP-A695-01Z-00-DX1.FE4A2232-CEEB-410A-B55D-F5F5ABCBF304.svs',\n",
       " 'TCGA-EE-A17X-01Z-00-DX1.409BD384-0F2E-4F05-9AE5-F523B51FF3B8.svs',\n",
       " 'TCGA-EB-A5VU-01Z-00-DX1.18EB50C3-F786-4094-B54F-37553B8E5FD8.svs',\n",
       " 'TCGA-WE-A8K4-01Z-00-DX1.C2B24058-E4F7-4AE2-9527-7BF524A6C3F3.svs',\n",
       " 'TCGA-D3-A1Q8-06Z-00-DX1.1E0D455B-62EB-445F-9758-F2E4E304AA82.svs',\n",
       " 'TCGA-EB-A85J-01Z-00-DX1.F297CAB5-A709-4782-8D83-C23E0949B03A.svs',\n",
       " 'TCGA-HR-A2OH-01Z-00-DX1.2BE38BC2-0B51-4EED-8F0F-2207E0BF8FAF.svs',\n",
       " 'TCGA-EB-A5UM-01Z-00-DX1.6F0E5CD6-FE4C-46F9-A095-59CF750A053A.svs',\n",
       " 'TCGA-BF-A3DM-01Z-00-DX1.531B67D8-67DB-4729-B5E1-74304CF431FE.svs',\n",
       " 'TCGA-WE-A8ZM-06Z-00-DX1.07BB6E6F-6B7C-4924-B43D-D47ABD76C0BE.svs',\n",
       " 'TCGA-DA-A3F5-01Z-00-DX1.DE4D3676-4F83-4076-AA6C-24D4C62DD9A0.svs',\n",
       " 'TCGA-ER-A42K-01Z-00-DX1.D5B935EE-EB66-47CB-A3DD-BEBC6C067B10.svs',\n",
       " 'TCGA-D3-A1Q7-06Z-00-DX1.25BEC48C-7909-4D71-B428-F25F8105C409.svs',\n",
       " 'TCGA-YD-A9TB-01Z-00-DX1.ADAE3D3D-6721-4378-87DB-46F086CF65B1.svs',\n",
       " 'TCGA-EB-A3XC-01Z-00-DX1.F50679D7-D525-4F20-980F-AF43D7E9EBE6.svs',\n",
       " 'TCGA-BF-A1PV-01Z-00-DX1.58ECB5AA-6FCE-419B-8DD0-6B8F6BC430CC.svs',\n",
       " 'TCGA-HR-A2OG-01Z-00-DX1.EB2F7E73-16CF-4E26-B3E0-87045C07FE66.svs',\n",
       " 'TCGA-EB-A6L9-01Z-00-DX1.9A8D8B31-426B-40E8-98AC-47E50BBBDFB0.svs',\n",
       " 'TCGA-EE-A2A5-01Z-00-DX1.96AC91D6-1BED-4F64-BF07-A8EA5B6C92F9.svs',\n",
       " 'TCGA-EB-A4XL-01Z-00-DX1.5E5511C0-7E5B-4412-8FB0-F0085A1B01EE.svs',\n",
       " 'TCGA-EE-A29R-06Z-00-DX1.5CE08E24-7D53-4E85-94CB-76296177D92A.svs',\n",
       " 'TCGA-ER-A3ES-01Z-00-DX1.591E818F-FF61-438F-8E41-8F928DA92011.svs',\n",
       " 'TCGA-D3-A3MO-06Z-00-DX1.F375C5A1-723B-4F61-B1AB-6AF1B944A327.svs',\n",
       " 'TCGA-D9-A3Z4-01Z-00-DX2.6EE916B0-7119-41CE-9754-37CD8E5CB1C2.svs',\n",
       " 'TCGA-D9-A3Z3-06Z-00-DX1.C4820632-C64D-4661-94DD-9F27F75519C3.svs',\n",
       " 'TCGA-ER-A2NH-01Z-00-DX1.8E2DEC74-D875-4420-B572-A462F1016CAB.svs',\n",
       " 'TCGA-DA-A1I7-01Z-00-DX1.EC6BB67F-9AEF-47EA-AF5D-508352639DD4.svs',\n",
       " 'TCGA-EE-A20H-01Z-00-DX1.A3C962A3-98DD-4952-AA0D-EEBB1F561D5D.svs',\n",
       " 'TCGA-D3-A3MR-06Z-00-DX1.D05823A5-C823-471F-8992-72AFA58DB37A.svs',\n",
       " 'TCGA-EE-A3JD-01Z-00-DX1.D4E5B644-C7EF-442D-91FB-594685CEBFD8.svs',\n",
       " 'TCGA-FS-A1ZM-06Z-00-DX1.E019A4FB-9690-4307-ADDD-3FF7BA153FCC.svs',\n",
       " 'TCGA-HR-A5NC-01Z-00-DX1.F8577EB3-C670-4DDB-9EDD-B8681CE2D664.svs',\n",
       " 'TCGA-XV-AAZV-01Z-00-DX1.EBADFAC9-8696-4A32-A768-785D32D46CB5.svs',\n",
       " 'TCGA-D3-A5GS-06Z-00-DX1.CA7E245E-86F6-4FB4-9BF9-BD8846FB023A.svs',\n",
       " 'TCGA-BF-AAP6-01Z-00-DX1.EFF1D6E1-CDBC-4401-A10C-B6475D6621AA.svs',\n",
       " 'TCGA-EE-A29A-01Z-00-DX1.75D346DD-8932-4248-B8BD-CA20CBBC352C.svs',\n",
       " 'TCGA-EB-A553-01Z-00-DX1.5DB62584-E538-4C83-8996-7F3AD478F4F1.svs',\n",
       " 'TCGA-FS-A1ZD-06Z-00-DX2.B2BF872D-1690-49FC-A8E7-921AA5F60A26.svs',\n",
       " 'TCGA-WE-AAA0-06Z-00-DX1.32141783-F374-42AC-A8EA-477B2DB14923.svs',\n",
       " 'TCGA-DA-A3F2-01Z-00-DX1.49266E6B-AC10-41E8-B51A-7A2939535C05.svs',\n",
       " 'TCGA-DA-A95Y-01Z-00-DX1.BC48F57E-39E1-4DBE-B497-94BCF5E242E7.svs',\n",
       " 'TCGA-ER-A2NE-01Z-00-DX1.C015AF50-4603-46C7-BF1E-B0258A049BFF.svs',\n",
       " 'TCGA-DA-A95V-01Z-00-DX1.E6E283D5-9367-4360-A6FD-100B6E9729BE.svs',\n",
       " 'TCGA-D3-A2JA-06Z-00-DX1.B2D576DF-C876-4385-9F85-23ACBDF30AF7.svs',\n",
       " 'TCGA-FR-A726-01Z-00-DX1.E547BCFB-C27E-4115-9C11-C192587FB32C.svs',\n",
       " 'TCGA-D3-A8GS-06Z-00-DX1.132335B1-2575-46E0-947E-7E01E8D52A8A.svs',\n",
       " 'TCGA-D3-A51T-06Z-00-DX1.90803497-46D5-4967-91D3-CB294605772E.svs',\n",
       " 'TCGA-BF-A3DL-01Z-00-DX1.19B241AC-405E-4C47-8582-7B8B6C6D58CE.svs',\n",
       " 'TCGA-EB-A5SG-06Z-00-DX1.8F2E4ACC-53DF-4540-86AA-EF1CBBAABA10.svs',\n",
       " 'TCGA-EB-A299-01Z-00-DX1.22F1489B-6A55-411D-816B-C5DFD1A7BE52.svs',\n",
       " 'TCGA-FS-A1ZN-01Z-00-DX4.06F2FBB4-52C0-42C2-A497-3F65EEAFE5BE.svs',\n",
       " 'TCGA-ER-A3ET-06Z-00-DX1.8EBAFF1A-E8FE-446A-8A10-FF4F031B2B14.svs',\n",
       " 'TCGA-EE-A2ME-01Z-00-DX1.E7D69A52-3A0D-4001-8EA5-57100083550D.svs',\n",
       " 'TCGA-EB-A44Q-01Z-00-DX1.E7EA9878-E2B1-4768-8157-4459BDE753F0.svs',\n",
       " 'TCGA-FS-A1ZP-06Z-00-DX1.2DDC009B-AD68-4894-850C-A5E1089795FA.svs',\n",
       " 'TCGA-RP-A690-01Z-00-DX1.33FBA3CD-46C6-41B9-8F56-EFF2BBF8B1AE.svs',\n",
       " 'TCGA-EB-A6QZ-01Z-00-DX1.1773352D-5C62-4FC2-A377-2F73EFA5FCD2.svs',\n",
       " 'TCGA-WE-A8K6-06Z-00-DX1.4729CA63-5901-4E06-A9C7-0EFA3551FC6A.svs',\n",
       " 'TCGA-EE-A2GJ-01Z-00-DX1.8B3B8765-AA75-47E6-80F1-8638D484185C.svs',\n",
       " 'TCGA-OD-A75X-06Z-00-DX1.1632CB25-A6A8-4F5B-8D5E-E6F3CCF5C022.svs',\n",
       " 'TCGA-EB-A4OY-01Z-00-DX1.F52614E1-FD7A-48A9-986C-09D471FDF203.svs',\n",
       " 'TCGA-FS-A1ZM-06Z-00-DX3.339CCE1D-3E08-481D-9FF6-2D0F99BE4DBC.svs',\n",
       " 'TCGA-ER-A19W-01Z-00-DX1.E0AFB547-537F-4F1D-9092-61D2434531F7.svs',\n",
       " 'TCGA-ER-A197-01Z-00-DX1.43CE44D7-E3C1-4D61-8319-D9614F898047.svs',\n",
       " 'TCGA-LH-A9QB-01Z-00-DX1.35EEC610-82D4-45E0-82F5-A93BD59718B6.svs',\n",
       " 'TCGA-EE-A20I-01Z-00-DX1.336799A6-898B-43C5-A29A-72F4F6AF4A27.svs',\n",
       " 'TCGA-WE-A8ZN-06Z-00-DX1.9134D58D-8DE3-4310-9E0E-8095CF3FDA6C.svs',\n",
       " 'TCGA-D3-A5GR-06Z-00-DX1.5621C88A-0C9E-47D9-8458-A473B7BD28B7.svs',\n",
       " 'TCGA-WE-AAA4-01Z-00-DX1.19FD789B-2028-4366-93A0-EA95E05629BA.svs',\n",
       " 'TCGA-EE-A2A6-01Z-00-DX1.9897318F-B858-4036-9F4B-4AF92D357859.svs',\n",
       " 'TCGA-DA-A95W-01Z-00-DX1.8E28AD5A-F851-47A6-835D-A0F3DA1DFCE3.svs',\n",
       " 'TCGA-GN-A8LK-06Z-00-DX1.C529E9FC-003A-4E7D-A423-7FADCCE6089C.svs',\n",
       " 'TCGA-ER-A1A1-06Z-00-DX1.CD88FBDD-AD5B-4063-8223-DDBA8A1F721B.svs',\n",
       " 'TCGA-FS-A1ZW-06Z-00-DX5.0E6095A7-836E-454F-BB2E-94BAB7C7EB4F.svs',\n",
       " 'TCGA-DA-A1I4-01Z-00-DX1.F88976CE-0707-47C8-8625-13D5D6F27594.svs',\n",
       " 'TCGA-D3-A51R-06Z-00-DX1.F4B5C1BD-2982-4041-A8F8-3F1E7EB7FFEE.svs',\n",
       " 'TCGA-D3-A8GO-06Z-00-DX1.357CD90F-23D3-45BB-BA13-DCF5AED677C1.svs',\n",
       " 'TCGA-EE-A2A2-01Z-00-DX1.D527C2E8-7AF4-484E-A0A5-1EB44EDAF00E.svs',\n",
       " 'TCGA-D3-A8GB-06Z-00-DX1.F5670C04-A846-4214-AE1A-9B75015F09A7.svs',\n",
       " 'TCGA-EE-A2MD-01Z-00-DX1.D66993F0-687E-4A3F-B192-E41D0CF889E8.svs',\n",
       " 'TCGA-Z2-A8RT-01Z-00-DX1.3DE00C7C-0373-425C-A042-A463FD814D50.svs',\n",
       " 'TCGA-EE-A2A1-01Z-00-DX1.84D22A1C-CCA2-4240-9695-D8F278114235.svs',\n",
       " 'TCGA-BF-AAOX-01Z-00-DX1.4B8CBB87-A525-4204-81DC-035B2C45C629.svs',\n",
       " 'TCGA-D3-A2JG-06Z-00-DX1.996E2017-70CA-4B6A-AB85-A170911BF9F2.svs',\n",
       " 'TCGA-GN-A8LL-06Z-00-DX1.DABC3E96-ECF2-4FA2-AC0F-B7D75DCD0EE5.svs',\n",
       " 'TCGA-W3-AA1R-01Z-00-DX1.7207EC87-5101-4D9E-925C-3C8CD6CBED5C.svs',\n",
       " 'TCGA-WE-A8ZT-06Z-00-DX1.CEB3AA3A-A9B5-4A2E-B31C-2558643BAA7D.svs',\n",
       " 'TCGA-EE-A29V-01Z-00-DX1.A41E14E1-260B-41C3-93FE-A8C6AA6D03ED.svs',\n",
       " 'TCGA-W3-AA21-01Z-00-DX1.F98BD7BF-31DD-4E2B-87D6-B761D01972CA.svs',\n",
       " 'TCGA-EE-A17Y-06Z-00-DX1.0D310813-3A45-4B49-8338-8146F9760BE4.svs',\n",
       " 'TCGA-FS-A1ZU-06Z-00-DX1.3AF5FEC8-DD45-4B7E-B580-20C0F73AC4BB.svs',\n",
       " 'TCGA-ER-A19H-01Z-00-DX1.7B596DAD-BA3C-4FB2-81FD-C03516A4E45A.svs',\n",
       " 'TCGA-EE-A2GP-01Z-00-DX1.21E36276-C516-49FB-A91F-938F58E39AFE.svs',\n",
       " 'TCGA-D3-A8GQ-06Z-00-DX1.5D8925EC-7571-4842-8763-0D8077D2FC68.svs',\n",
       " 'TCGA-D3-A51N-06Z-00-DX1.D5CB4EEA-2764-438F-ABAF-F875559F9CBC.svs',\n",
       " 'TCGA-GN-A262-01Z-00-DX1.64FB584F-24C0-4311-A75F-365CD48D0CD6.svs',\n",
       " 'TCGA-EB-A3XE-01Z-00-DX1.DC27C8AE-FA5B-438A-8C90-B5E66E9F489C.svs',\n",
       " 'TCGA-W3-A828-06Z-00-DX1.1617E01C-D0E8-49F9-9FE1-5D912E9C024A.svs',\n",
       " 'TCGA-EB-A41B-01Z-00-DX1.68B1C834-C7AD-43FE-AAB9-AE560C649834.svs',\n",
       " 'TCGA-XV-A9W5-01Z-00-DX1.5FE52223-15BC-4DA0-A901-F7E4730AB6E7.svs',\n",
       " 'TCGA-EE-A2GM-01Z-00-DX1.C12E719D-B25A-4A13-9DED-B5C7CEF3D8EC.svs',\n",
       " 'TCGA-EE-A3J7-01Z-00-DX1.EEDF0AF3-4BB7-4961-B4EB-65ABA2CE4E18.svs',\n",
       " 'TCGA-D3-A2JP-06Z-00-DX1.5418E86B-EF73-4430-B322-AE6D88CE04F0.svs',\n",
       " 'TCGA-EE-A29G-01Z-00-DX1.8123979A-EF7A-4EB7-A323-94B4F7E77547.svs',\n",
       " 'TCGA-Z2-AA3V-01Z-00-DX1.776C7396-2B67-472B-A332-2E2CCD28B110.svs',\n",
       " 'TCGA-ER-A198-01Z-00-DX1.6C44C1A7-4872-49C0-8F07-456127EC3654.svs',\n",
       " 'TCGA-ER-A2NB-01Z-00-DX1.323F02C6-D07A-41B6-BEE3-DE212F657A3E.svs',\n",
       " 'TCGA-EE-A3AH-01Z-00-DX1.681D7F88-B3C6-4F5B-9AE5-3692543583E5.svs',\n",
       " 'TCGA-YD-A9TA-01Z-00-DX2.702FBD47-C816-4622-A5F4-DEE100169B82.svs',\n",
       " 'TCGA-FS-A1Z7-06Z-00-DX2.1DEA2824-A11B-4AD0-9F77-0D7149A0FFD7.svs',\n",
       " 'TCGA-EB-A3Y7-01Z-00-DX1.4F5C0668-96CD-4614-9A22-B2A29FB7838C.svs',\n",
       " 'TCGA-FR-A8YD-06Z-00-DX1.AF90C1E6-94CB-48ED-BDED-F2AC6183153F.svs',\n",
       " 'TCGA-BF-A5EO-01Z-00-DX1.1BA74189-485E-4ABF-8314-1E7F6BFF77EA.svs',\n",
       " 'TCGA-FW-A5DX-01Z-00-DX1.B6197945-5BEA-41F2-8164-415F046A5DFD.svs',\n",
       " 'TCGA-XV-A9W2-01Z-00-DX1.49675C94-0F98-4867-8C7E-398C2F41507E.svs',\n",
       " 'TCGA-FS-A1ZA-06Z-00-DX1.1D969D96-646E-4270-A130-D2DCF422CA50.svs',\n",
       " 'TCGA-FR-A69P-06Z-00-DX1.D4CEAE91-6400-4FA0-A34D-5E56A8382CEA.svs',\n",
       " 'TCGA-D3-A8GP-06Z-00-DX1.8A2ADCC2-6D4A-42D7-8E11-FEC7FADD0659.svs',\n",
       " 'TCGA-WE-A8ZY-06Z-00-DX1.A17BD770-E488-4B3C-9FBA-0CDE316BC3EC.svs',\n",
       " 'TCGA-FS-A1ZW-06Z-00-DX8.C3BC9286-EB9E-4911-A310-357C133897E6.svs',\n",
       " 'TCGA-D3-A3BZ-06Z-00-DX1.2033A0DE-6437-4444-A294-28556667DF35.svs',\n",
       " 'TCGA-EE-A29T-01Z-00-DX1.71D4A4BA-3C89-475B-8EAC-89B55B57F7D0.svs',\n",
       " 'TCGA-EE-A185-01Z-00-DX1.EAFE650B-CA96-4C0A-8390-FB3043DD3AB1.svs',\n",
       " 'TCGA-XV-AB01-06Z-00-DX1.20585168-4E6E-403C-A7EB-DC3F7CDC0AD4.svs',\n",
       " 'TCGA-WE-AAA3-06Z-00-DX1.4D21C5FD-48C6-4F90-9137-43AB726DB6BB.svs',\n",
       " 'TCGA-EB-A44N-01Z-00-DX1.C36462FD-3059-4652-9E6B-2BE0B2CBC9BF.svs',\n",
       " 'TCGA-ER-A19O-01Z-00-DX1.41972CD4-68BF-4815-A362-74A1038241C9.svs',\n",
       " 'TCGA-FS-A1ZM-06Z-00-DX2.084DE89E-6D04-494E-8001-5E02A94F93B9.svs',\n",
       " 'TCGA-DA-A1I8-01Z-00-DX1.1810EF35-B886-4944-A5F8-35C760B31DE3.svs',\n",
       " 'TCGA-D3-A3C8-06Z-00-DX1.FE6A00E4-C1B4-42D8-9B02-34AF74F61C94.svs',\n",
       " 'TCGA-EB-A82C-01Z-00-DX1.11DBF5EC-C481-4F3D-A6EA-88644D7487A7.svs',\n",
       " 'TCGA-ER-A42H-01Z-00-DX1.093FF55F-A71B-48E4-8897-C8002D4BF5D2.svs',\n",
       " 'TCGA-FS-A1ZN-01Z-00-DX6.465E4569-54BC-4EF0-AE51-0995B2967914.svs',\n",
       " 'TCGA-GF-A6C8-06Z-00-DX1.9388CB1A-BF64-4CE8-AAC3-E565FFA90114.svs',\n",
       " 'TCGA-DA-A1I0-01Z-00-DX1.B33CFE4A-EB0F-4D5A-B155-A5089EBD2A06.svs',\n",
       " 'TCGA-D9-A148-01Z-00-DX1.073C186D-B676-4E50-B762-1C61C7EDD92A.svs',\n",
       " 'TCGA-D3-A2JC-06Z-00-DX1.C5D339EB-672E-41B5-BB6F-008D22E84E1B.svs',\n",
       " 'TCGA-BF-A3DN-01Z-00-DX1.4A5A739C-FB1D-44A5-9CE2-FC4966D843B6.svs',\n",
       " 'TCGA-ER-A19G-01Z-00-DX1.B462DA40-B006-4A40-8F0C-089013EAA80E.svs',\n",
       " 'TCGA-FS-A1ZW-06Z-00-DX4.B7CC8DFF-CB1A-4A9D-A9DC-B1723D90FE7B.svs',\n",
       " 'TCGA-EE-A180-01Z-00-DX1.70980EC1-353C-404C-AC07-40DCB47601D5.svs',\n",
       " 'TCGA-FS-A1ZN-01Z-00-DX1.7A4FB831-E03E-43B3-9CD9-8441682F146C.svs',\n",
       " 'TCGA-EE-A29D-01Z-00-DX1.20E820A1-6292-4717-ACAC-9797321FDE2A.svs',\n",
       " 'TCGA-FS-A1Z7-06Z-00-DX3.9A16A153-426A-414A-AFC9-19113F615931.svs',\n",
       " 'TCGA-BF-AAP2-01Z-00-DX1.EFDAA5ED-1360-4D86-8515-BF57CA1E4B5A.svs',\n",
       " 'TCGA-EE-A2GK-01Z-00-DX1.0AB26CDF-352D-4B2E-BC34-1F533911B954.svs',\n",
       " 'TCGA-GN-A4U8-06Z-00-DX1.BD0E3D01-7FE9-40B6-9C80-63C83CB2E380.svs',\n",
       " 'TCGA-D3-A5GL-06Z-00-DX1.94EB7EB4-7906-4D03-BBF3-D25BD7517D91.svs',\n",
       " 'TCGA-D9-A3Z4-01Z-00-DX1.5807DC41-0370-4F3C-8ECB-4A12B81C8FC7.svs',\n",
       " 'TCGA-EB-A3XB-01Z-00-DX1.65EB6648-0EA6-4010-8B71-DE9FF803B1A7.svs',\n",
       " 'TCGA-D3-A8GC-06Z-00-DX1.F46C95E6-FF24-431F-9E86-1C29CE71524D.svs',\n",
       " 'TCGA-W3-AA1O-01Z-00-DX1.E0A69ED3-1A2F-4D3D-BB6D-4EEF28B8CE95.svs',\n",
       " 'TCGA-ER-A19J-01Z-00-DX1.2ED00A97-7C5C-451E-B3BB-843F76B2C90E.svs',\n",
       " 'TCGA-GN-A264-01Z-00-DX1.2C02EEF5-92DF-4DAF-BDE8-82423B4D8957.svs',\n",
       " 'TCGA-FS-A1ZW-06Z-00-DX7.6C842FEA-2DF8-4467-984E-C317FE537FC3.svs',\n",
       " 'TCGA-EB-A1NK-01Z-00-DX1.655D7734-ADAD-4F3E-A82B-0C24EB6C9E79.svs',\n",
       " 'TCGA-EE-A29L-01Z-00-DX1.63E1EE2B-FC39-4E41-9C48-6E6371055411.svs',\n",
       " 'TCGA-WE-A8ZQ-06Z-00-DX1.22515DD9-C179-4944-8F9F-C36FBEBE1ED7.svs',\n",
       " 'TCGA-W3-A824-06Z-00-DX1.29C5C32A-10D0-44C9-A54A-6568BC8DDBC8.svs',\n",
       " 'TCGA-GF-A2C7-01Z-00-DX1.4EA83FC1-52B0-448B-B6CE-587310012DBB.svs',\n",
       " 'TCGA-GN-A268-06Z-00-DX1.07874075-CD90-4E27-B5AA-D27741047B7B.svs',\n",
       " 'TCGA-GN-A265-01Z-00-DX1.BE90A07C-D871-49EC-ADE6-74EFBDF86EF7.svs',\n",
       " 'TCGA-GN-A269-01Z-00-DX1.8DEB7375-C896-48F9-903F-5BA1384B10D7.svs',\n",
       " 'TCGA-ER-A19K-01Z-00-DX1.C7AAFCAE-F735-43A7-958A-EF162BAECB77.svs',\n",
       " 'TCGA-D3-A1Q1-06Z-00-DX1.7E87AE47-8145-464D-AFBC-82DEAC42F492.svs',\n",
       " 'TCGA-EE-A20B-01Z-00-DX1.BAA59F59-B286-4DAF-BB9E-0FCCD09E67C4.svs',\n",
       " 'TCGA-BF-AAP0-01Z-00-DX1.E194AEF2-65FC-47DB-985B-93FF6CA62086.svs',\n",
       " 'TCGA-FS-A1ZE-06Z-00-DX1.0628CA6E-328C-428F-A4D1-ECB565D8DB98.svs',\n",
       " 'TCGA-EB-A431-01Z-00-DX1.9D1E5A19-63AE-48C4-B478-357DCCC1EB70.svs',\n",
       " 'TCGA-D3-A3CF-06Z-00-DX1.34257FE7-9EF7-454E-8384-3BB81771F629.svs',\n",
       " 'TCGA-EB-A42Z-01Z-00-DX1.FD9A9A45-2333-43FB-A9F4-E429CDD8E8AF.svs',\n",
       " 'TCGA-ER-A19L-01Z-00-DX1.1CA310C8-2C7A-4719-9D54-6F2098F43949.svs',\n",
       " 'TCGA-DA-A1IB-01Z-00-DX1.4D07114F-A581-4AEE-BB40-BBBA3DFF58FE.svs',\n",
       " 'TCGA-EE-A29S-01Z-00-DX1.C53935B6-2B30-47B6-B051-0360C8C9B774.svs',\n",
       " 'TCGA-EE-A2GB-01Z-00-DX1.77982EF7-6A82-43BD-9D6C-AD19B5D671EC.svs',\n",
       " 'TCGA-BF-A9VF-01Z-00-DX1.41F1F6E7-7093-4355-AC34-888340257A93.svs',\n",
       " 'TCGA-D3-A2JL-06Z-00-DX1.3258F79C-866E-4AC5-BB16-F4DF65E9DFC2.svs',\n",
       " 'TCGA-EE-A2MQ-01Z-00-DX1.9EDA37BD-21FD-4CED-8375-5D8FFD2D6CA0.svs',\n",
       " 'TCGA-D3-A2JH-06Z-00-DX1.52FC3D80-FB2B-4427-AABB-1396A200F3CD.svs',\n",
       " 'TCGA-EE-A2MR-01Z-00-DX1.F5AB5CC6-0D9A-4438-804D-FA4636D966F2.svs',\n",
       " 'TCGA-EE-A2MK-01Z-00-DX1.3A8F8407-BA89-46E6-9591-90A1CABD6E21.svs',\n",
       " 'TCGA-ER-A193-01Z-00-DX1.6A5A9A89-3C55-456A-B6F5-C8507914F5BF.svs',\n",
       " 'TCGA-XV-AAZW-01Z-00-DX1.26C215F6-0EFA-42D9-A3EF-58466997594B.svs',\n",
       " 'TCGA-EE-A20C-01Z-00-DX1.48BAD79E-DFC8-44A7-92F8-09C7C0545455.svs',\n",
       " 'TCGA-FW-A5DY-01Z-00-DX1.57B7805F-0FAB-4F48-94E8-CD525A4FAE96.svs',\n",
       " 'TCGA-EE-A2GI-01Z-00-DX1.3555691F-4DCF-45E9-9360-A7F34361B7AA.svs',\n",
       " 'TCGA-D9-A4Z6-06Z-00-DX1.9AE8803C-4560-4E79-97A8-0CD6DA1890DC.svs',\n",
       " 'TCGA-BF-AAP1-01Z-00-DX1.65888232-80E7-46F0-93D9-CFC6AE1D117E.svs',\n",
       " 'TCGA-EB-A44O-01Z-00-DX1.A07646AF-D30D-4C44-B8F6-B81D3F2A4F5D.svs',\n",
       " 'TCGA-XV-AAZY-01Z-00-DX1.77D5F2CA-1A90-4F8B-86A2-29A9597B7373.svs',\n",
       " 'TCGA-EB-A6QY-01Z-00-DX1.F6C8B1E9-42E1-4F97-AADF-6A6C14637BBF.svs',\n",
       " 'TCGA-FR-A3YN-01Z-00-DX1.2E95B327-14BD-4B92-8E0D-512E3F38B513.svs',\n",
       " 'TCGA-D3-A8GD-06Z-00-DX1.77C57515-41B8-4ACF-A205-6199D568AC19.svs',\n",
       " 'TCGA-FS-A1Z7-06Z-00-DX5.8F583629-BB0D-46AD-97A7-42C7E871760E.svs',\n",
       " 'TCGA-EE-A181-01Z-00-DX1.B302A50A-0719-4B46-8605-09D8A0FA20B6.svs',\n",
       " 'TCGA-D3-A8GI-06Z-00-DX1.CF5E4553-D092-40DD-A610-A1879563C4AC.svs',\n",
       " 'TCGA-D9-A149-01Z-00-DX1.D6073E77-0039-41F9-A1C7-F599188585B0.svs',\n",
       " 'TCGA-GN-A4U3-06Z-00-DX1.5D929F92-4E32-4AE7-9CDA-16E9C63ED751.svs',\n",
       " 'TCGA-FW-A3R5-01Z-00-DX1.701DF0D8-5D3A-4FEA-BA55-0F8CB3961E81.svs',\n",
       " 'TCGA-D3-A8GK-06Z-00-DX1.EB94CDEC-CA59-4901-B979-0B22132BCA0E.svs',\n",
       " 'TCGA-EE-A29P-01Z-00-DX1.E4E718E1-C5C3-477E-8073-F30C4D0A52C3.svs',\n",
       " 'TCGA-D3-A2J7-06Z-00-DX1.57EC1671-0AA2-426D-BD5D-251AC0C63556.svs',\n",
       " 'TCGA-EE-A2M6-01Z-00-DX1.78D26DB4-610E-46E8-87C6-192A1E4741BC.svs',\n",
       " 'TCGA-FS-A1ZW-06Z-00-DX1.C13CB8ED-CD54-4A07-AAC1-845D7A31CD8B.svs',\n",
       " 'TCGA-ER-A19E-01Z-00-DX1.50204A2E-4F44-4F34-848A-6C649FFF5C36.svs',\n",
       " 'TCGA-IH-A3EA-01Z-00-DX1.4CB876AA-E46B-4C4C-B6B3-3EF3C4525E7F.svs',\n",
       " 'TCGA-D3-A1Q5-06Z-00-DX1.A94CEB2F-27BA-4D90-B52F-3C8F86BD6F14.svs',\n",
       " 'TCGA-QB-AA9O-01Z-00-DX1.DC862486-1A25-4351-A091-C4626713FCB6.svs',\n",
       " 'TCGA-ER-A19T-01Z-00-DX1.20DA5FB3-D467-4FE0-A72F-CEB9DCA48E8F.svs',\n",
       " 'TCGA-FS-A1ZD-06Z-00-DX1.C7653162-9ED9-42C0-A012-72301B5E3B49.svs',\n",
       " 'TCGA-EB-A44P-01Z-00-DX1.717C3DBF-9CC2-425F-8CEA-15CD5BF28225.svs',\n",
       " 'TCGA-EE-A2MG-01Z-00-DX1.6C994F68-7326-40F7-BCE1-D77716962E9A.svs',\n",
       " 'TCGA-EB-A5FP-01Z-00-DX1.59E7B409-5166-4084-A667-EE52BE109A2A.svs',\n",
       " 'TCGA-BF-A3DJ-01Z-00-DX1.79340B5A-D0BC-410B-807E-D0B18239DBC4.svs',\n",
       " 'TCGA-FS-A1ZN-01Z-00-DX9.70815334-6AEE-45EC-A76F-132BD19F4B33.svs',\n",
       " 'TCGA-D3-A2JK-06Z-00-DX1.B53201B1-E21D-4275-9D5D-31890053171D.svs',\n",
       " 'TCGA-Z2-AA3S-01Z-00-DX1.EE957037-93E8-4BF2-A9E9-0F5A6760752D.svs',\n",
       " 'TCGA-ER-A19M-01Z-00-DX1.7136F73C-8013-4A84-80C9-A7C9191BEBF1.svs',\n",
       " 'TCGA-D3-A8GN-06Z-00-DX1.B946963A-067D-4823-878C-DB46EC2ACAEF.svs',\n",
       " 'TCGA-ER-A19F-01Z-00-DX1.198F38A3-FF26-4A41-9E9A-0543D29FAD92.svs',\n",
       " 'TCGA-D9-A6EC-01Z-00-DX1.5F4CB042-C371-44FA-9653-EDB218C6733D.svs',\n",
       " 'TCGA-EE-A3J3-01Z-00-DX1.E6FE9C79-136B-4032-8406-549E5733FB3D.svs',\n",
       " 'TCGA-ER-A3EV-01Z-00-DX1.295FE0BC-4BCC-4950-A671-01A49FE10185.svs',\n",
       " 'TCGA-DA-A1IA-01Z-00-DX1.5EC9E887-49D4-414D-B1AA-45EDCA84DA1A.svs',\n",
       " 'TCGA-3N-A9WD-01Z-00-DX1.3B836595-3D67-4985-9D3B-39A7AE38B550.svs']"
      ]
     },
     "execution_count": 53,
     "metadata": {},
     "output_type": "execute_result"
    }
   ],
   "source": [
    "file_names_s"
   ]
  },
  {
   "cell_type": "code",
   "execution_count": 54,
   "id": "c79f7319-b88f-403f-8138-c9de52971c32",
   "metadata": {
    "scrolled": true
   },
   "outputs": [],
   "source": [
    "##############################################################################\n",
    "#  gastrointestinal\n",
    "##############################################################################\n",
    "directory_colon = \"/data/pa_cpgarchive/archives/gastrointestinal/TCGA_diagnostics/images\"\n",
    "file_names_colon = os.listdir(directory_colon)\n",
    "colon_labels = pd.DataFrame(file_names_colon, columns=['ID'])\n",
    "\n",
    "# Suppose you have a df_bladder_tp53 similarly filtered\n",
    "colon_barcodes = df_colon_tp53_directory_present['Tumor_Sample_Barcode'].astype(str).unique()\n",
    "\n",
    "colon_labels['TP53'] = colon_labels['ID'].apply(\n",
    "    lambda fn: has_tp53_barcode(fn, colon_barcodes)\n",
    ")"
   ]
  },
  {
   "cell_type": "code",
   "execution_count": 55,
   "id": "0e1c1c98-22d6-4e22-885f-ab63177a2e56",
   "metadata": {
    "scrolled": true
   },
   "outputs": [],
   "source": [
    "##############################################################################\n",
    "#  lung lusc\n",
    "##############################################################################\n",
    "directory_path_lunglc = pd.read_csv(\"/data/pa_cpgarchive/archives/lung/TCGA_LUSC/images/images_diagnostic/00 TCGA-LUSC_images_manifest.txt\", sep=\"\\t\")\n",
    "# Get a list of all .pt file names in the directory (without extensions and converted to lowercase)\n",
    "file_names_lunglc = [a for a in directory_path_lungld[\"filename\"]]\n",
    "lunglc_Labels = pd.DataFrame(file_names_lunglc, columns=['ID'])\n",
    "\n",
    "# Suppose you have a df_bladder_tp53 similarly filtered\n",
    "lunglc_barcodes = df_lunglc_tp53_directory_present['Tumor_Sample_Barcode'].astype(str).unique()\n",
    "lunglc_Labels['TP53'] = lunglc_Labels['ID'].apply(\n",
    "    lambda fn: has_tp53_barcode(fn, lunglc_barcodes)\n",
    ")"
   ]
  },
  {
   "cell_type": "code",
   "execution_count": 57,
   "id": "7a03b53e-11d3-4ee8-ac72-be7d22ee370d",
   "metadata": {},
   "outputs": [],
   "source": [
    "##############################################################################\n",
    "#  lung luad\n",
    "##############################################################################\n",
    "directory_path_lungld = pd.read_csv(\"/data/pa_cpgarchive/archives/lung/TCGA_LUAD/documents/TCGA_LUAD_gdc_manifest_tissue_slides.2019-08-09.txt\", sep=\"\\t\")\n",
    "\n",
    "# Get a list of all .pt file names in the directory (without extensions and converted to lowercase)\n",
    "file_names_lungld = [a for a in directory_path_lungld[\"filename\"]]\n",
    "lungld_Labels = pd.DataFrame(file_names_lungld, columns=['ID'])\n",
    "\n",
    "# Suppose you have a df_bladder_tp53 similarly filtered\n",
    "lungld_barcodes = df_lungld_tp53_directory_present['Tumor_Sample_Barcode'].astype(str).unique()\n",
    "lungld_Labels['TP53'] = lungld_Labels['ID'].apply(\n",
    "    lambda fn: has_tp53_barcode(fn, lungld_barcodes)\n",
    ")"
   ]
  },
  {
   "cell_type": "code",
   "execution_count": 58,
   "id": "d29f71ca-f686-480a-b38e-299808e28e3e",
   "metadata": {},
   "outputs": [],
   "source": [
    "#saving the labels "
   ]
  },
  {
   "cell_type": "code",
   "execution_count": 59,
   "id": "887db98c-b426-4607-b930-570ddbf38f3f",
   "metadata": {},
   "outputs": [
    {
     "name": "stdout",
     "output_type": "stream",
     "text": [
      "Saved Colon_labels to /data/temporary/amirhosein/mutation_project/TP53_labels/Colon_labels.csv\n",
      "Saved Prostate_Labels to /data/temporary/amirhosein/mutation_project/TP53_labels/Prostate_Labels.csv\n",
      "Saved Breast_Labels to /data/temporary/amirhosein/mutation_project/TP53_labels/Breast_Labels.csv\n",
      "Saved Bladder_Labels to /data/temporary/amirhosein/mutation_project/TP53_labels/Bladder_Labels.csv\n",
      "Saved Skin_Labels to /data/temporary/amirhosein/mutation_project/TP53_labels/Skin_Labels.csv\n",
      "Saved lunglc_Labels to /data/temporary/amirhosein/mutation_project/TP53_labels/lunglc_Labels.csv\n",
      "Saved lungld_Labels to /data/temporary/amirhosein/mutation_project/TP53_labels/lungld_Labels.csv\n"
     ]
    }
   ],
   "source": [
    "import os\n",
    "\n",
    "# Ensure the target directory exists\n",
    "save_dir = \"/data/temporary/amirhosein/mutation_project/TP53_labels\"\n",
    "\n",
    "# Dictionary of DataFrame names and objects\n",
    "dataframes = {\n",
    "    \"Colon_labels\": colon_labels,\n",
    "    \"Prostate_Labels\": Prostate_Labels,\n",
    "    \"Breast_Labels\": Breast_Labels,\n",
    "    \"Bladder_Labels\": Bladder_Labels,\n",
    "    \"Skin_Labels\": Skin_Labels,\n",
    "    \"lunglc_Labels\": lunglc_Labels,\n",
    "    \"lungld_Labels\": lungld_Labels\n",
    "}\n",
    "\n",
    "# Save each DataFrame as a CSV with its name\n",
    "for name, df in dataframes.items():\n",
    "    csv_path = os.path.join(save_dir, f\"{name}.csv\")\n",
    "    df.to_csv(csv_path, index=False)\n",
    "    print(f\"Saved {name} to {csv_path}\")\n"
   ]
  },
  {
   "cell_type": "code",
   "execution_count": null,
   "id": "14c71f3b-bf32-424f-9cbe-3aee1e9b6cb4",
   "metadata": {},
   "outputs": [],
   "source": []
  },
  {
   "cell_type": "code",
   "execution_count": null,
   "id": "38f32eab-8d46-4bab-b8d5-5e2b00f8a980",
   "metadata": {},
   "outputs": [],
   "source": []
  }
 ],
 "metadata": {
  "kernelspec": {
   "display_name": "Python 3 (ipykernel)",
   "language": "python",
   "name": "python3"
  },
  "language_info": {
   "codemirror_mode": {
    "name": "ipython",
    "version": 3
   },
   "file_extension": ".py",
   "mimetype": "text/x-python",
   "name": "python",
   "nbconvert_exporter": "python",
   "pygments_lexer": "ipython3",
   "version": "3.9.15"
  }
 },
 "nbformat": 4,
 "nbformat_minor": 5
}
